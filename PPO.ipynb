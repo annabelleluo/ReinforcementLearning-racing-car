{
 "cells": [
  {
   "cell_type": "code",
   "execution_count": 4,
   "id": "9f403d6d",
   "metadata": {},
   "outputs": [],
   "source": [
    "import tensorflow as tf\n",
    "import gym\n",
    "from IPython.display import HTML\n",
    "from IPython import display as ipythondisplay\n",
    "from pyvirtualdisplay import Display\n",
    "from gym.wrappers import Monitor\n",
    "\n",
    "import warnings\n",
    "warnings.simplefilter(action='ignore', category=FutureWarning)\n",
    "warnings.simplefilter(action='ignore', category=Warning)\n",
    "tf.compat.v1.logging.set_verbosity(tf.compat.v1.logging.ERROR)\n",
    "\n",
    "from gym.envs.box2d import CarRacing\n",
    "from stable_baselines.common import make_vec_env\n",
    "from stable_baselines.common.policies import CnnPolicy\n",
    "from stable_baselines.common.vec_env import DummyVecEnv,VecVideoRecorder\n",
    "from stable_baselines import PPO2\n",
    "import glob\n",
    "import base64\n",
    "import wandb\n",
    "import time\n",
    "import os\n",
    "import numpy as np\n",
    "import pandas as pd\n",
    "from tqdm import tqdm\n",
    "from typing import Any, Dict"
   ]
  },
  {
   "cell_type": "markdown",
   "id": "ea83d314",
   "metadata": {},
   "source": [
    "## General Functions"
   ]
  },
  {
   "cell_type": "code",
   "execution_count": 2,
   "id": "603fceb6",
   "metadata": {},
   "outputs": [],
   "source": [
    "from stable_baselines.common.callbacks import BaseCallback\n",
    "\n",
    "class PPOCustomCallback(BaseCallback):\n",
    "    \"\"\"\n",
    "    A custom callback that derives from ``BaseCallback``.\n",
    "\n",
    "    :param verbose: (int) Verbosity level 0: not output 1: info 2: debug\n",
    "    \"\"\"\n",
    "    def __init__(self, verbose=0):\n",
    "        super(PPOCustomCallback, self).__init__(verbose)\n",
    "        # Those variables will be accessible in the callback\n",
    "        # (they are defined in the base class)\n",
    "        # The RL model\n",
    "        # self.model = None  # type: BaseAlgorithm\n",
    "        # An alias for self.model.get_env(), the environment used for training\n",
    "        # self.training_env = None  # type: Union[gym.Env, VecEnv, None]\n",
    "        # Number of time the callback was called\n",
    "        # self.n_calls = 0  # type: int\n",
    "        # self.num_timesteps = 0  # type: int\n",
    "        # local and global variables\n",
    "        # self.locals = None  # type: Dict[str, Any]\n",
    "        # self.globals = None  # type: Dict[str, Any]\n",
    "        # The logger object, used to report things in the terminal\n",
    "        # self.logger = None  # stable_baselines3.common.logger\n",
    "        # # Sometimes, for event callback, it is useful\n",
    "        # # to have access to the parent object\n",
    "        # self.parent = None  # type: Optional[BaseCallback]\n",
    "        self.episodes = 0\n",
    "        self.total_episode_reward = np.array([0,0,0,0], dtype=np.float32)\n",
    "\n",
    "    def _on_training_start(self) -> None:\n",
    "        \"\"\"\n",
    "        This method is called before the first rollout starts.\n",
    "        \"\"\"\n",
    "        pass\n",
    "\n",
    "    def _on_rollout_start(self) -> None:\n",
    "        \"\"\"\n",
    "        A rollout is the collection of environment interaction\n",
    "        using the current policy.\n",
    "        This event is triggered before collecting new samples.\n",
    "        \"\"\"\n",
    "        pass\n",
    "\n",
    "    def _on_step(self) -> bool:\n",
    "        # update commulative reward to log at the end of every episode\n",
    "        self.total_episode_reward += self.locals[\"rewards\"]\n",
    "        # at the end of every episode       \n",
    "        if np.array(self.locals[\"mb_dones\"][-1]).any():\n",
    "            # log the reward value if its time to not log 2 times\n",
    "            if self.episodes % self.locals[\"log_interval\"] != 0: \n",
    "                wandb.log({\"reward_per_episode\": np.mean(self.total_episode_reward[np.array(self.locals[\"mb_dones\"][-1])==True]) })\n",
    "            \n",
    "            # if log interval has passed\n",
    "            if self.episodes % self.locals[\"log_interval\"] == 0:\n",
    "                # Save your model and optimizer\n",
    "                self.model.save(MODEL_SAVE_NAME)\n",
    "                # Save as artifact for version control.\n",
    "                artifact = wandb.Artifact(MODEL_SAVE_NAME, type='model')\n",
    "                artifact.add_file(MODEL_SAVE_NAME+\".zip\")\n",
    "                wandb.log_artifact(artifact)\n",
    "                wandb.log({\"reward_per_episode\": np.mean(self.total_episode_reward[np.array(self.locals[\"mb_dones\"][-1])==True]) })\n",
    "            self.episodes += 1\n",
    "            self.total_episode_reward[np.array(self.locals[\"mb_dones\"][-1])==True] = 0\n",
    "\n",
    "        \n",
    "        return True\n",
    "\n",
    "    def _on_rollout_end(self) -> None:\n",
    "        \"\"\"\n",
    "        This event is triggered before updating the policy.\n",
    "        \"\"\"\n",
    "        pass\n",
    "\n",
    "    def _on_training_end(self) -> None:\n",
    "        \"\"\"\n",
    "        This event is triggered before exiting the learn() method.\n",
    "        \"\"\"\n",
    "        pass"
   ]
  },
  {
   "cell_type": "markdown",
   "id": "27622387",
   "metadata": {},
   "source": [
    "# Baseline environment"
   ]
  },
  {
   "cell_type": "markdown",
   "id": "659cb250",
   "metadata": {},
   "source": [
    "## Training"
   ]
  },
  {
   "cell_type": "code",
   "execution_count": 2,
   "id": "36cc122b",
   "metadata": {},
   "outputs": [],
   "source": [
    "env = lambda : CarRacing(\n",
    "        grayscale=1,\n",
    "        show_info_panel=0,\n",
    "        discretize_actions=\"hard\",\n",
    "        frames_per_state=4,\n",
    "        num_lanes=1,\n",
    "        num_lanes_changes=1,\n",
    "        num_tracks=1,\n",
    "        allow_reverse=False,\n",
    "        max_time_out=2,\n",
    "        verbose=0,\n",
    "        num_obstacles=0,\n",
    "        max_step_reward=1\n",
    "        )"
   ]
  },
  {
   "cell_type": "code",
   "execution_count": 4,
   "id": "71d7c27b",
   "metadata": {
    "scrolled": true
   },
   "outputs": [
    {
     "name": "stderr",
     "output_type": "stream",
     "text": [
      "Failed to detect the name of this notebook, you can set it manually with the WANDB_NOTEBOOK_NAME environment variable to enable code saving.\n",
      "\u001b[34m\u001b[1mwandb\u001b[0m: Currently logged in as: \u001b[33mant_ai\u001b[0m. Use \u001b[1m`wandb login --relogin`\u001b[0m to force relogin\n"
     ]
    },
    {
     "data": {
      "text/html": [
       "Tracking run with wandb version 0.14.1"
      ],
      "text/plain": [
       "<IPython.core.display.HTML object>"
      ]
     },
     "metadata": {},
     "output_type": "display_data"
    },
    {
     "data": {
      "text/html": [
       "Run data is saved locally in <code>C:\\Users\\antoi\\Downloads\\Project RL\\wandb\\run-20230406_165242-1</code>"
      ],
      "text/plain": [
       "<IPython.core.display.HTML object>"
      ]
     },
     "metadata": {},
     "output_type": "display_data"
    },
    {
     "data": {
      "text/html": [
       "Resuming run <strong><a href='https://wandb.ai/ant_ai/PPO_No_Obstacles/runs/1' target=\"_blank\">Antoine1</a></strong> to <a href='https://wandb.ai/ant_ai/PPO_No_Obstacles' target=\"_blank\">Weights & Biases</a> (<a href='https://wandb.me/run' target=\"_blank\">docs</a>)<br/>"
      ],
      "text/plain": [
       "<IPython.core.display.HTML object>"
      ]
     },
     "metadata": {},
     "output_type": "display_data"
    },
    {
     "data": {
      "text/html": [
       " View project at <a href='https://wandb.ai/ant_ai/PPO_No_Obstacles' target=\"_blank\">https://wandb.ai/ant_ai/PPO_No_Obstacles</a>"
      ],
      "text/plain": [
       "<IPython.core.display.HTML object>"
      ]
     },
     "metadata": {},
     "output_type": "display_data"
    },
    {
     "data": {
      "text/html": [
       " View run at <a href='https://wandb.ai/ant_ai/PPO_No_Obstacles/runs/1' target=\"_blank\">https://wandb.ai/ant_ai/PPO_No_Obstacles/runs/1</a>"
      ],
      "text/plain": [
       "<IPython.core.display.HTML object>"
      ]
     },
     "metadata": {},
     "output_type": "display_data"
    },
    {
     "name": "stderr",
     "output_type": "stream",
     "text": [
      "\u001b[34m\u001b[1mwandb\u001b[0m:   1 of 1 files downloaded.  \n"
     ]
    },
    {
     "name": "stdout",
     "output_type": "stream",
     "text": [
      "WARNING:tensorflow:From C:\\Users\\antoi\\anaconda3\\envs\\project_rl\\lib\\site-packages\\stable_baselines\\common\\tf_util.py:191: The name tf.ConfigProto is deprecated. Please use tf.compat.v1.ConfigProto instead.\n",
      "\n",
      "WARNING:tensorflow:From C:\\Users\\antoi\\anaconda3\\envs\\project_rl\\lib\\site-packages\\stable_baselines\\common\\tf_util.py:200: The name tf.Session is deprecated. Please use tf.compat.v1.Session instead.\n",
      "\n",
      "WARNING:tensorflow:From C:\\Users\\antoi\\anaconda3\\envs\\project_rl\\lib\\site-packages\\stable_baselines\\common\\policies.py:116: The name tf.variable_scope is deprecated. Please use tf.compat.v1.variable_scope instead.\n",
      "\n",
      "WARNING:tensorflow:From C:\\Users\\antoi\\anaconda3\\envs\\project_rl\\lib\\site-packages\\stable_baselines\\common\\input.py:25: The name tf.placeholder is deprecated. Please use tf.compat.v1.placeholder instead.\n",
      "\n",
      "WARNING:tensorflow:From C:\\Users\\antoi\\anaconda3\\envs\\project_rl\\lib\\site-packages\\stable_baselines\\common\\tf_layers.py:103: The name tf.get_variable is deprecated. Please use tf.compat.v1.get_variable instead.\n",
      "\n",
      "WARNING:tensorflow:From C:\\Users\\antoi\\anaconda3\\envs\\project_rl\\lib\\site-packages\\stable_baselines\\common\\distributions.py:326: The name tf.random_uniform is deprecated. Please use tf.random.uniform instead.\n",
      "\n",
      "WARNING:tensorflow:From C:\\Users\\antoi\\anaconda3\\envs\\project_rl\\lib\\site-packages\\stable_baselines\\common\\distributions.py:327: The name tf.log is deprecated. Please use tf.math.log instead.\n",
      "\n",
      "WARNING:tensorflow:From C:\\Users\\antoi\\anaconda3\\envs\\project_rl\\lib\\site-packages\\stable_baselines\\ppo2\\ppo2.py:190: The name tf.summary.scalar is deprecated. Please use tf.compat.v1.summary.scalar instead.\n",
      "\n",
      "WARNING:tensorflow:From C:\\Users\\antoi\\anaconda3\\envs\\project_rl\\lib\\site-packages\\stable_baselines\\ppo2\\ppo2.py:198: The name tf.trainable_variables is deprecated. Please use tf.compat.v1.trainable_variables instead.\n",
      "\n",
      "WARNING:tensorflow:From C:\\Users\\antoi\\anaconda3\\envs\\project_rl\\lib\\site-packages\\tensorflow_core\\python\\ops\\math_grad.py:1424: where (from tensorflow.python.ops.array_ops) is deprecated and will be removed in a future version.\n",
      "Instructions for updating:\n",
      "Use tf.where in 2.0, which has the same broadcast rule as np.where\n",
      "WARNING:tensorflow:From C:\\Users\\antoi\\anaconda3\\envs\\project_rl\\lib\\site-packages\\stable_baselines\\ppo2\\ppo2.py:206: The name tf.train.AdamOptimizer is deprecated. Please use tf.compat.v1.train.AdamOptimizer instead.\n",
      "\n",
      "WARNING:tensorflow:From C:\\Users\\antoi\\anaconda3\\envs\\project_rl\\lib\\site-packages\\stable_baselines\\ppo2\\ppo2.py:240: The name tf.global_variables_initializer is deprecated. Please use tf.compat.v1.global_variables_initializer instead.\n",
      "\n",
      "WARNING:tensorflow:From C:\\Users\\antoi\\anaconda3\\envs\\project_rl\\lib\\site-packages\\stable_baselines\\ppo2\\ppo2.py:242: The name tf.summary.merge_all is deprecated. Please use tf.compat.v1.summary.merge_all instead.\n",
      "\n",
      "LOAD SAVED PPΟ MODEL\n",
      "-------------------------------------\n",
      "| approxkl           | 0.008186035  |\n",
      "| clipfrac           | 0.104003906  |\n",
      "| explained_variance | 0.761        |\n",
      "| fps                | 71           |\n",
      "| n_updates          | 1            |\n",
      "| policy_entropy     | 0.54089534   |\n",
      "| policy_loss        | -0.008199417 |\n",
      "| serial_timesteps   | 128          |\n",
      "| time_elapsed       | 0            |\n",
      "| total_timesteps    | 512          |\n",
      "| value_loss         | 0.6223811    |\n",
      "-------------------------------------\n",
      "--------------------------------------\n",
      "| approxkl           | 0.004611495   |\n",
      "| clipfrac           | 0.061523438   |\n",
      "| ep_len_mean        | 541           |\n",
      "| ep_reward_mean     | 54.6          |\n",
      "| explained_variance | 0.947         |\n",
      "| fps                | 87            |\n",
      "| n_updates          | 100           |\n",
      "| policy_entropy     | 0.6423588     |\n",
      "| policy_loss        | -0.0093071945 |\n",
      "| serial_timesteps   | 12800         |\n",
      "| time_elapsed       | 579           |\n",
      "| total_timesteps    | 51200         |\n",
      "| value_loss         | 1.267659      |\n",
      "--------------------------------------\n",
      "--------------------------------------\n",
      "| approxkl           | 0.007738605   |\n",
      "| clipfrac           | 0.1015625     |\n",
      "| ep_len_mean        | 566           |\n",
      "| ep_reward_mean     | 76.1          |\n",
      "| explained_variance | 0.279         |\n",
      "| fps                | 80            |\n",
      "| n_updates          | 200           |\n",
      "| policy_entropy     | 0.63526094    |\n",
      "| policy_loss        | -0.0025540527 |\n",
      "| serial_timesteps   | 25600         |\n",
      "| time_elapsed       | 1.17e+03      |\n",
      "| total_timesteps    | 102400        |\n",
      "| value_loss         | 7.9278502     |\n",
      "--------------------------------------\n",
      "--------------------------------------\n",
      "| approxkl           | 0.0018761454  |\n",
      "| clipfrac           | 0.020996094   |\n",
      "| ep_len_mean        | 568           |\n",
      "| ep_reward_mean     | 55.5          |\n",
      "| explained_variance | 0.307         |\n",
      "| fps                | 89            |\n",
      "| n_updates          | 300           |\n",
      "| policy_entropy     | 0.51853865    |\n",
      "| policy_loss        | -0.0016147809 |\n",
      "| serial_timesteps   | 38400         |\n",
      "| time_elapsed       | 1.76e+03      |\n",
      "| total_timesteps    | 153600        |\n",
      "| value_loss         | 5.4794345     |\n",
      "--------------------------------------\n",
      "--------------------------------------\n",
      "| approxkl           | 0.0036413316  |\n",
      "| clipfrac           | 0.043945312   |\n",
      "| ep_len_mean        | 547           |\n",
      "| ep_reward_mean     | 40.8          |\n",
      "| explained_variance | 0.779         |\n",
      "| fps                | 93            |\n",
      "| n_updates          | 400           |\n",
      "| policy_entropy     | 0.38590372    |\n",
      "| policy_loss        | -0.0013031213 |\n",
      "| serial_timesteps   | 51200         |\n",
      "| time_elapsed       | 2.36e+03      |\n",
      "| total_timesteps    | 204800        |\n",
      "| value_loss         | 3.5281024     |\n",
      "--------------------------------------\n",
      "--------------------------------------\n",
      "| approxkl           | 0.002394253   |\n",
      "| clipfrac           | 0.030273438   |\n",
      "| ep_len_mean        | 583           |\n",
      "| ep_reward_mean     | 33.7          |\n",
      "| explained_variance | 0.747         |\n",
      "| fps                | 93            |\n",
      "| n_updates          | 500           |\n",
      "| policy_entropy     | 0.3872214     |\n",
      "| policy_loss        | -0.0021943739 |\n",
      "| serial_timesteps   | 64000         |\n",
      "| time_elapsed       | 2.94e+03      |\n",
      "| total_timesteps    | 256000        |\n",
      "| value_loss         | 5.713753      |\n",
      "--------------------------------------\n",
      "--------------------------------------\n",
      "| approxkl           | 0.0052362806  |\n",
      "| clipfrac           | 0.06982422    |\n",
      "| ep_len_mean        | 535           |\n",
      "| ep_reward_mean     | 61.8          |\n",
      "| explained_variance | 0.698         |\n",
      "| fps                | 83            |\n",
      "| n_updates          | 600           |\n",
      "| policy_entropy     | 0.65962106    |\n",
      "| policy_loss        | -0.0019231414 |\n",
      "| serial_timesteps   | 76800         |\n",
      "| time_elapsed       | 3.51e+03      |\n",
      "| total_timesteps    | 307200        |\n",
      "| value_loss         | 67.794334     |\n",
      "--------------------------------------\n",
      "-------------------------------------\n",
      "| approxkl           | 0.009668833  |\n",
      "| clipfrac           | 0.15039062   |\n",
      "| ep_len_mean        | 529          |\n",
      "| ep_reward_mean     | 61.6         |\n",
      "| explained_variance | 0.103        |\n",
      "| fps                | 84           |\n",
      "| n_updates          | 700          |\n",
      "| policy_entropy     | 0.7920127    |\n",
      "| policy_loss        | -0.008578721 |\n",
      "| serial_timesteps   | 89600        |\n",
      "| time_elapsed       | 4.09e+03     |\n",
      "| total_timesteps    | 358400       |\n",
      "| value_loss         | 2.9552174    |\n",
      "-------------------------------------\n",
      "--------------------------------------\n",
      "| approxkl           | 0.0054448945  |\n",
      "| clipfrac           | 0.07519531    |\n",
      "| ep_len_mean        | 554           |\n",
      "| ep_reward_mean     | 68.6          |\n",
      "| explained_variance | 0.571         |\n",
      "| fps                | 84            |\n",
      "| n_updates          | 800           |\n",
      "| policy_entropy     | 0.5995811     |\n",
      "| policy_loss        | -0.0017196381 |\n",
      "| serial_timesteps   | 102400        |\n",
      "| time_elapsed       | 4.69e+03      |\n",
      "| total_timesteps    | 409600        |\n",
      "| value_loss         | 8.915953      |\n",
      "--------------------------------------\n",
      "--------------------------------------\n",
      "| approxkl           | 0.0035704933  |\n",
      "| clipfrac           | 0.05029297    |\n",
      "| ep_len_mean        | 592           |\n",
      "| ep_reward_mean     | 77.9          |\n",
      "| explained_variance | 0.45          |\n",
      "| fps                | 87            |\n",
      "| n_updates          | 900           |\n",
      "| policy_entropy     | 0.6578613     |\n",
      "| policy_loss        | -0.0051666754 |\n",
      "| serial_timesteps   | 115200        |\n",
      "| time_elapsed       | 5.28e+03      |\n",
      "| total_timesteps    | 460800        |\n",
      "| value_loss         | 6.0914507     |\n",
      "--------------------------------------\n"
     ]
    },
    {
     "name": "stdout",
     "output_type": "stream",
     "text": [
      "--------------------------------------\n",
      "| approxkl           | 0.0070926268  |\n",
      "| clipfrac           | 0.06640625    |\n",
      "| ep_len_mean        | 581           |\n",
      "| ep_reward_mean     | 55.2          |\n",
      "| explained_variance | 0.941         |\n",
      "| fps                | 85            |\n",
      "| n_updates          | 1000          |\n",
      "| policy_entropy     | 0.4912929     |\n",
      "| policy_loss        | -0.0036474462 |\n",
      "| serial_timesteps   | 128000        |\n",
      "| time_elapsed       | 5.88e+03      |\n",
      "| total_timesteps    | 512000        |\n",
      "| value_loss         | 23.82411      |\n",
      "--------------------------------------\n",
      "--------------------------------------\n",
      "| approxkl           | 0.0031172594  |\n",
      "| clipfrac           | 0.04345703    |\n",
      "| ep_len_mean        | 532           |\n",
      "| ep_reward_mean     | 76.3          |\n",
      "| explained_variance | 0.528         |\n",
      "| fps                | 94            |\n",
      "| n_updates          | 1100          |\n",
      "| policy_entropy     | 0.43890023    |\n",
      "| policy_loss        | -0.0025658493 |\n",
      "| serial_timesteps   | 140800        |\n",
      "| time_elapsed       | 6.48e+03      |\n",
      "| total_timesteps    | 563200        |\n",
      "| value_loss         | 4.894289      |\n",
      "--------------------------------------\n",
      "-------------------------------------\n",
      "| approxkl           | 0.00218398   |\n",
      "| clipfrac           | 0.020507812  |\n",
      "| ep_len_mean        | 531          |\n",
      "| ep_reward_mean     | 68.8         |\n",
      "| explained_variance | 0.233        |\n",
      "| fps                | 76           |\n",
      "| n_updates          | 1200         |\n",
      "| policy_entropy     | 0.6898299    |\n",
      "| policy_loss        | 0.0010218929 |\n",
      "| serial_timesteps   | 153600       |\n",
      "| time_elapsed       | 7.06e+03     |\n",
      "| total_timesteps    | 614400       |\n",
      "| value_loss         | 122.13587    |\n",
      "-------------------------------------\n",
      "-------------------------------------\n",
      "| approxkl           | 0.0031887759 |\n",
      "| clipfrac           | 0.030273438  |\n",
      "| ep_len_mean        | 476          |\n",
      "| ep_reward_mean     | 18.4         |\n",
      "| explained_variance | 0.513        |\n",
      "| fps                | 80           |\n",
      "| n_updates          | 1300         |\n",
      "| policy_entropy     | 0.39491534   |\n",
      "| policy_loss        | -0.003271496 |\n",
      "| serial_timesteps   | 166400       |\n",
      "| time_elapsed       | 7.66e+03     |\n",
      "| total_timesteps    | 665600       |\n",
      "| value_loss         | 5.3167496    |\n",
      "-------------------------------------\n",
      "-------------------------------------\n",
      "| approxkl           | 0.003968029  |\n",
      "| clipfrac           | 0.03857422   |\n",
      "| ep_len_mean        | 525          |\n",
      "| ep_reward_mean     | 63.3         |\n",
      "| explained_variance | 0.51         |\n",
      "| fps                | 88           |\n",
      "| n_updates          | 1400         |\n",
      "| policy_entropy     | 0.51119834   |\n",
      "| policy_loss        | -0.005299542 |\n",
      "| serial_timesteps   | 179200       |\n",
      "| time_elapsed       | 8.28e+03     |\n",
      "| total_timesteps    | 716800       |\n",
      "| value_loss         | 3.6020894    |\n",
      "-------------------------------------\n",
      "--------------------------------------\n",
      "| approxkl           | 0.0021248544  |\n",
      "| clipfrac           | 0.022949219   |\n",
      "| ep_len_mean        | 555           |\n",
      "| ep_reward_mean     | 59.6          |\n",
      "| explained_variance | 0.768         |\n",
      "| fps                | 87            |\n",
      "| n_updates          | 1500          |\n",
      "| policy_entropy     | 0.6481724     |\n",
      "| policy_loss        | -0.0033457805 |\n",
      "| serial_timesteps   | 192000        |\n",
      "| time_elapsed       | 8.86e+03      |\n",
      "| total_timesteps    | 768000        |\n",
      "| value_loss         | 3.9777439     |\n",
      "--------------------------------------\n",
      "-------------------------------------\n",
      "| approxkl           | 0.005741266  |\n",
      "| clipfrac           | 0.07470703   |\n",
      "| ep_len_mean        | 551          |\n",
      "| ep_reward_mean     | 50.3         |\n",
      "| explained_variance | 0.778        |\n",
      "| fps                | 85           |\n",
      "| n_updates          | 1600         |\n",
      "| policy_entropy     | 0.5886009    |\n",
      "| policy_loss        | -0.013913348 |\n",
      "| serial_timesteps   | 204800       |\n",
      "| time_elapsed       | 9.45e+03     |\n",
      "| total_timesteps    | 819200       |\n",
      "| value_loss         | 2.8828702    |\n",
      "-------------------------------------\n",
      "--------------------------------------\n",
      "| approxkl           | 0.012483275   |\n",
      "| clipfrac           | 0.10498047    |\n",
      "| ep_len_mean        | 497           |\n",
      "| ep_reward_mean     | 69.9          |\n",
      "| explained_variance | 0.297         |\n",
      "| fps                | 82            |\n",
      "| n_updates          | 1700          |\n",
      "| policy_entropy     | 0.5479411     |\n",
      "| policy_loss        | -0.0040200613 |\n",
      "| serial_timesteps   | 217600        |\n",
      "| time_elapsed       | 1e+04         |\n",
      "| total_timesteps    | 870400        |\n",
      "| value_loss         | 6.500424      |\n",
      "--------------------------------------\n",
      "-------------------------------------\n",
      "| approxkl           | 0.0065923086 |\n",
      "| clipfrac           | 0.087890625  |\n",
      "| ep_len_mean        | 521          |\n",
      "| ep_reward_mean     | 63.7         |\n",
      "| explained_variance | 0.766        |\n",
      "| fps                | 91           |\n",
      "| n_updates          | 1800         |\n",
      "| policy_entropy     | 0.989695     |\n",
      "| policy_loss        | -0.012377396 |\n",
      "| serial_timesteps   | 230400       |\n",
      "| time_elapsed       | 1.06e+04     |\n",
      "| total_timesteps    | 921600       |\n",
      "| value_loss         | 1.0376881    |\n",
      "-------------------------------------\n",
      "--------------------------------------\n",
      "| approxkl           | 0.0043505463  |\n",
      "| clipfrac           | 0.047851562   |\n",
      "| ep_len_mean        | 591           |\n",
      "| ep_reward_mean     | 76.5          |\n",
      "| explained_variance | 0.369         |\n",
      "| fps                | 92            |\n",
      "| n_updates          | 1900          |\n",
      "| policy_entropy     | 0.45047563    |\n",
      "| policy_loss        | -0.0031332779 |\n",
      "| serial_timesteps   | 243200        |\n",
      "| time_elapsed       | 1.12e+04      |\n",
      "| total_timesteps    | 972800        |\n",
      "| value_loss         | 3.2234056     |\n",
      "--------------------------------------\n",
      "------------------------------------\n",
      "| approxkl           | 0.007320836 |\n",
      "| clipfrac           | 0.11279297  |\n",
      "| ep_len_mean        | 505         |\n",
      "| ep_reward_mean     | 70.5        |\n",
      "| explained_variance | 0.769       |\n",
      "| fps                | 93          |\n",
      "| n_updates          | 2000        |\n",
      "| policy_entropy     | 0.8387126   |\n",
      "| policy_loss        | -0.01246668 |\n",
      "| serial_timesteps   | 256000      |\n",
      "| time_elapsed       | 1.18e+04    |\n",
      "| total_timesteps    | 1024000     |\n",
      "| value_loss         | 1.761174    |\n",
      "------------------------------------\n",
      "--------------------------------------\n",
      "| approxkl           | 0.0048082615  |\n",
      "| clipfrac           | 0.06347656    |\n",
      "| ep_len_mean        | 516           |\n",
      "| ep_reward_mean     | 82.8          |\n",
      "| explained_variance | 0.495         |\n",
      "| fps                | 79            |\n",
      "| n_updates          | 2100          |\n",
      "| policy_entropy     | 0.5727567     |\n",
      "| policy_loss        | -0.0008746349 |\n",
      "| serial_timesteps   | 268800        |\n",
      "| time_elapsed       | 1.24e+04      |\n",
      "| total_timesteps    | 1075200       |\n",
      "| value_loss         | 160.95532     |\n",
      "--------------------------------------\n",
      "--------------------------------------\n",
      "| approxkl           | 0.016108675   |\n",
      "| clipfrac           | 0.19091797    |\n",
      "| ep_len_mean        | 492           |\n",
      "| ep_reward_mean     | 89.7          |\n",
      "| explained_variance | 0.668         |\n",
      "| fps                | 87            |\n",
      "| n_updates          | 2200          |\n",
      "| policy_entropy     | 0.4806318     |\n",
      "| policy_loss        | -0.0032685853 |\n",
      "| serial_timesteps   | 281600        |\n",
      "| time_elapsed       | 1.3e+04       |\n",
      "| total_timesteps    | 1126400       |\n",
      "| value_loss         | 6.9751606     |\n",
      "--------------------------------------\n",
      "--------------------------------------\n",
      "| approxkl           | 0.0025867198  |\n",
      "| clipfrac           | 0.029296875   |\n",
      "| ep_len_mean        | 466           |\n",
      "| ep_reward_mean     | 80.1          |\n",
      "| explained_variance | 0.503         |\n",
      "| fps                | 88            |\n",
      "| n_updates          | 2300          |\n",
      "| policy_entropy     | 0.5306935     |\n",
      "| policy_loss        | 0.00016895047 |\n",
      "| serial_timesteps   | 294400        |\n",
      "| time_elapsed       | 1.36e+04      |\n",
      "| total_timesteps    | 1177600       |\n",
      "| value_loss         | 5.4398217     |\n",
      "--------------------------------------\n",
      "--------------------------------------\n",
      "| approxkl           | 0.005146811   |\n",
      "| clipfrac           | 0.0625        |\n",
      "| ep_len_mean        | 477           |\n",
      "| ep_reward_mean     | 84.7          |\n",
      "| explained_variance | 0.596         |\n",
      "| fps                | 85            |\n",
      "| n_updates          | 2400          |\n",
      "| policy_entropy     | 0.7356709     |\n",
      "| policy_loss        | -0.0041648042 |\n",
      "| serial_timesteps   | 307200        |\n",
      "| time_elapsed       | 1.41e+04      |\n",
      "| total_timesteps    | 1228800       |\n",
      "| value_loss         | 3.816806      |\n",
      "--------------------------------------\n"
     ]
    },
    {
     "name": "stdout",
     "output_type": "stream",
     "text": [
      "---------------------------------------\n",
      "| approxkl           | 0.0018591783   |\n",
      "| clipfrac           | 0.017089844    |\n",
      "| ep_len_mean        | 486            |\n",
      "| ep_reward_mean     | 89.4           |\n",
      "| explained_variance | 0.578          |\n",
      "| fps                | 87             |\n",
      "| n_updates          | 2500           |\n",
      "| policy_entropy     | 0.47421846     |\n",
      "| policy_loss        | -0.00033091567 |\n",
      "| serial_timesteps   | 320000         |\n",
      "| time_elapsed       | 1.47e+04       |\n",
      "| total_timesteps    | 1280000        |\n",
      "| value_loss         | 102.04931      |\n",
      "---------------------------------------\n",
      "--------------------------------------\n",
      "| approxkl           | 0.0045541925  |\n",
      "| clipfrac           | 0.05810547    |\n",
      "| ep_len_mean        | 488           |\n",
      "| ep_reward_mean     | 65.9          |\n",
      "| explained_variance | 0.633         |\n",
      "| fps                | 87            |\n",
      "| n_updates          | 2600          |\n",
      "| policy_entropy     | 0.49139935    |\n",
      "| policy_loss        | -0.0017980405 |\n",
      "| serial_timesteps   | 332800        |\n",
      "| time_elapsed       | 1.53e+04      |\n",
      "| total_timesteps    | 1331200       |\n",
      "| value_loss         | 5.686426      |\n",
      "--------------------------------------\n",
      "--------------------------------------\n",
      "| approxkl           | 0.0023025267  |\n",
      "| clipfrac           | 0.022460938   |\n",
      "| ep_len_mean        | 471           |\n",
      "| ep_reward_mean     | 98.9          |\n",
      "| explained_variance | 0.331         |\n",
      "| fps                | 93            |\n",
      "| n_updates          | 2700          |\n",
      "| policy_entropy     | 0.62871546    |\n",
      "| policy_loss        | -0.0022576745 |\n",
      "| serial_timesteps   | 345600        |\n",
      "| time_elapsed       | 1.59e+04      |\n",
      "| total_timesteps    | 1382400       |\n",
      "| value_loss         | 5.037652      |\n",
      "--------------------------------------\n",
      "--------------------------------------\n",
      "| approxkl           | 0.0033813312  |\n",
      "| clipfrac           | 0.032714844   |\n",
      "| ep_len_mean        | 465           |\n",
      "| ep_reward_mean     | 97.4          |\n",
      "| explained_variance | -0.188        |\n",
      "| fps                | 76            |\n",
      "| n_updates          | 2800          |\n",
      "| policy_entropy     | 0.43165332    |\n",
      "| policy_loss        | -0.0070557175 |\n",
      "| serial_timesteps   | 358400        |\n",
      "| time_elapsed       | 1.65e+04      |\n",
      "| total_timesteps    | 1433600       |\n",
      "| value_loss         | 18.694284     |\n",
      "--------------------------------------\n",
      "-------------------------------------\n",
      "| approxkl           | 0.003711827  |\n",
      "| clipfrac           | 0.05078125   |\n",
      "| ep_len_mean        | 435          |\n",
      "| ep_reward_mean     | 104          |\n",
      "| explained_variance | 0.673        |\n",
      "| fps                | 93           |\n",
      "| n_updates          | 2900         |\n",
      "| policy_entropy     | 0.50284576   |\n",
      "| policy_loss        | -0.010168109 |\n",
      "| serial_timesteps   | 371200       |\n",
      "| time_elapsed       | 1.71e+04     |\n",
      "| total_timesteps    | 1484800      |\n",
      "| value_loss         | 0.4277149    |\n",
      "-------------------------------------\n",
      "--------------------------------------\n",
      "| approxkl           | 0.0063995044  |\n",
      "| clipfrac           | 0.09765625    |\n",
      "| ep_len_mean        | 462           |\n",
      "| ep_reward_mean     | 95.4          |\n",
      "| explained_variance | 0.649         |\n",
      "| fps                | 92            |\n",
      "| n_updates          | 3000          |\n",
      "| policy_entropy     | 0.5808873     |\n",
      "| policy_loss        | -0.0018378788 |\n",
      "| serial_timesteps   | 384000        |\n",
      "| time_elapsed       | 1.77e+04      |\n",
      "| total_timesteps    | 1536000       |\n",
      "| value_loss         | 3.644397      |\n",
      "--------------------------------------\n",
      "---------------------------------------\n",
      "| approxkl           | 0.0017043375   |\n",
      "| clipfrac           | 0.022949219    |\n",
      "| ep_len_mean        | 473            |\n",
      "| ep_reward_mean     | 97.5           |\n",
      "| explained_variance | 0.0189         |\n",
      "| fps                | 84             |\n",
      "| n_updates          | 3100           |\n",
      "| policy_entropy     | 0.41796464     |\n",
      "| policy_loss        | -0.00045271654 |\n",
      "| serial_timesteps   | 396800         |\n",
      "| time_elapsed       | 1.83e+04       |\n",
      "| total_timesteps    | 1587200        |\n",
      "| value_loss         | 11.490847      |\n",
      "---------------------------------------\n",
      "-------------------------------------\n",
      "| approxkl           | 0.0031789835 |\n",
      "| clipfrac           | 0.033691406  |\n",
      "| ep_len_mean        | 445          |\n",
      "| ep_reward_mean     | 100          |\n",
      "| explained_variance | 0.112        |\n",
      "| fps                | 77           |\n",
      "| n_updates          | 3200         |\n",
      "| policy_entropy     | 0.34254473   |\n",
      "| policy_loss        | -0.005397022 |\n",
      "| serial_timesteps   | 409600       |\n",
      "| time_elapsed       | 1.89e+04     |\n",
      "| total_timesteps    | 1638400      |\n",
      "| value_loss         | 16.159798    |\n",
      "-------------------------------------\n",
      "--------------------------------------\n",
      "| approxkl           | 0.0034000103  |\n",
      "| clipfrac           | 0.0390625     |\n",
      "| ep_len_mean        | 430           |\n",
      "| ep_reward_mean     | 91.3          |\n",
      "| explained_variance | 0.291         |\n",
      "| fps                | 88            |\n",
      "| n_updates          | 3300          |\n",
      "| policy_entropy     | 0.36697868    |\n",
      "| policy_loss        | -0.0075524217 |\n",
      "| serial_timesteps   | 422400        |\n",
      "| time_elapsed       | 1.95e+04      |\n",
      "| total_timesteps    | 1689600       |\n",
      "| value_loss         | 5.481138      |\n",
      "--------------------------------------\n",
      "-------------------------------------\n",
      "| approxkl           | 0.00669282   |\n",
      "| clipfrac           | 0.076660156  |\n",
      "| ep_len_mean        | 461          |\n",
      "| ep_reward_mean     | 98.4         |\n",
      "| explained_variance | 0.561        |\n",
      "| fps                | 76           |\n",
      "| n_updates          | 3400         |\n",
      "| policy_entropy     | 0.60206133   |\n",
      "| policy_loss        | -0.010426445 |\n",
      "| serial_timesteps   | 435200       |\n",
      "| time_elapsed       | 2.01e+04     |\n",
      "| total_timesteps    | 1740800      |\n",
      "| value_loss         | 9.1317425    |\n",
      "-------------------------------------\n",
      "-------------------------------------\n",
      "| approxkl           | 0.0051574945 |\n",
      "| clipfrac           | 0.05908203   |\n",
      "| ep_len_mean        | 433          |\n",
      "| ep_reward_mean     | 91.1         |\n",
      "| explained_variance | 0.752        |\n",
      "| fps                | 93           |\n",
      "| n_updates          | 3500         |\n",
      "| policy_entropy     | 0.6042338    |\n",
      "| policy_loss        | -0.009129782 |\n",
      "| serial_timesteps   | 448000       |\n",
      "| time_elapsed       | 2.07e+04     |\n",
      "| total_timesteps    | 1792000      |\n",
      "| value_loss         | 2.9075627    |\n",
      "-------------------------------------\n",
      "--------------------------------------\n",
      "| approxkl           | 0.006015641   |\n",
      "| clipfrac           | 0.0703125     |\n",
      "| ep_len_mean        | 446           |\n",
      "| ep_reward_mean     | 92.1          |\n",
      "| explained_variance | 0.612         |\n",
      "| fps                | 88            |\n",
      "| n_updates          | 3600          |\n",
      "| policy_entropy     | 0.5416687     |\n",
      "| policy_loss        | -0.0053308383 |\n",
      "| serial_timesteps   | 460800        |\n",
      "| time_elapsed       | 2.13e+04      |\n",
      "| total_timesteps    | 1843200       |\n",
      "| value_loss         | 7.428337      |\n",
      "--------------------------------------\n",
      "---------------------------------------\n",
      "| approxkl           | 0.0038099752   |\n",
      "| clipfrac           | 0.05029297     |\n",
      "| ep_len_mean        | 453            |\n",
      "| ep_reward_mean     | 99.1           |\n",
      "| explained_variance | 0.2            |\n",
      "| fps                | 86             |\n",
      "| n_updates          | 3700           |\n",
      "| policy_entropy     | 0.6484356      |\n",
      "| policy_loss        | -0.00077521335 |\n",
      "| serial_timesteps   | 473600         |\n",
      "| time_elapsed       | 2.18e+04       |\n",
      "| total_timesteps    | 1894400        |\n",
      "| value_loss         | 6.256428       |\n",
      "---------------------------------------\n",
      "--------------------------------------\n",
      "| approxkl           | 0.0044297823  |\n",
      "| clipfrac           | 0.0546875     |\n",
      "| ep_len_mean        | 446           |\n",
      "| ep_reward_mean     | 99.4          |\n",
      "| explained_variance | -0.122        |\n",
      "| fps                | 74            |\n",
      "| n_updates          | 3800          |\n",
      "| policy_entropy     | 0.506331      |\n",
      "| policy_loss        | -0.0044487473 |\n",
      "| serial_timesteps   | 486400        |\n",
      "| time_elapsed       | 2.24e+04      |\n",
      "| total_timesteps    | 1945600       |\n",
      "| value_loss         | 20.512548     |\n",
      "--------------------------------------\n",
      "--------------------------------------\n",
      "| approxkl           | 0.004287864   |\n",
      "| clipfrac           | 0.05126953    |\n",
      "| ep_len_mean        | 472           |\n",
      "| ep_reward_mean     | 93.3          |\n",
      "| explained_variance | 0.399         |\n",
      "| fps                | 83            |\n",
      "| n_updates          | 3900          |\n",
      "| policy_entropy     | 0.36966267    |\n",
      "| policy_loss        | -0.0010140843 |\n",
      "| serial_timesteps   | 499200        |\n",
      "| time_elapsed       | 2.3e+04       |\n",
      "| total_timesteps    | 1996800       |\n",
      "| value_loss         | 14.349114     |\n",
      "--------------------------------------\n"
     ]
    }
   ],
   "source": [
    "num = 1\n",
    "\n",
    "LOG_INTERVAL        = 100\n",
    "WANDB_ID            = \"\" + str(num)\n",
    "WNDB_NAME           = \"Antoine\" + str(num)\n",
    "LOAD_SAVED_MODEL    = True\n",
    "MODEL_SAVE_NAME     = \"PPO_MODEL_\" + str(num)\n",
    "SAVED_MODEL_VERSION = \"latest\"\n",
    "\n",
    "os.environ[\"WANDB_ENTITY\"]  = \"ant_ai\"\n",
    "os.environ[\"WANDB_PROJECT\"] = \"PPO_No_Obstacles\"\n",
    "os.environ[\"WANDB_RESUME\"]  = \"allow\"\n",
    "wandb.init(resume=WANDB_ID)\n",
    "wandb.run.name = WNDB_NAME\n",
    "\n",
    "env = make_vec_env(env, n_envs=4)\n",
    "\n",
    "# Load model\n",
    "if LOAD_SAVED_MODEL:\n",
    "    try:\n",
    "        model_artifact = wandb.use_artifact(MODEL_SAVE_NAME+':'+SAVED_MODEL_VERSION, type='model')\n",
    "        artifact_dir = model_artifact.download()\n",
    "        PPOmodel = PPO2.load(artifact_dir+\"/\"+MODEL_SAVE_NAME, env=env)\n",
    "        print(\"LOAD SAVED PPΟ MODEL\")\n",
    "\n",
    "    except:\n",
    "        print(\"NO MODEL FOUND\")\n",
    "else:\n",
    "    if 'PPOmodel' not in globals():\n",
    "        PPOmodel = PPO2(CnnPolicy, env, verbose=1)\n",
    "        print(\"INITIALIZE NEW PPO MODEL\")\n",
    "    else:\n",
    "        PPOmodel = PPO2.load(MODEL_SAVE_NAME, env=env)\n",
    "        print(\"CONTINUE PPO MODEL TRAINING\")\n",
    "\n",
    "        # Train model\n",
    "PPOmodel.learn(total_timesteps=2000000, log_interval=LOG_INTERVAL, callback=PPOCustomCallback())\n",
    "PPOmodel.save(MODEL_SAVE_NAME)\n",
    "env.close()"
   ]
  },
  {
   "cell_type": "markdown",
   "id": "23be86d3",
   "metadata": {},
   "source": [
    "## Evaluate model"
   ]
  },
  {
   "cell_type": "code",
   "execution_count": 2,
   "id": "9d931c64",
   "metadata": {},
   "outputs": [],
   "source": [
    "env = lambda : CarRacing(\n",
    "        grayscale=1,\n",
    "        show_info_panel=0,\n",
    "        discretize_actions=\"hard\",\n",
    "        frames_per_state=4,\n",
    "        num_lanes=1,\n",
    "        num_lanes_changes=1,\n",
    "        num_tracks=1,\n",
    "        allow_reverse=False,\n",
    "        max_time_out=2,\n",
    "        verbose=0)\n",
    "env = DummyVecEnv([env])"
   ]
  },
  {
   "cell_type": "code",
   "execution_count": 3,
   "id": "6efb5a7d",
   "metadata": {
    "scrolled": true
   },
   "outputs": [
    {
     "name": "stdout",
     "output_type": "stream",
     "text": [
      "Episode: 0, Total Reward: [159.09991]\n",
      "Episode: 1, Total Reward: [152.39993]\n",
      "Episode: 2, Total Reward: [151.70003]\n",
      "Episode: 3, Total Reward: [145.19997]\n",
      "Episode: 4, Total Reward: [148.49901]\n",
      "Episode: 5, Total Reward: [153.39998]\n",
      "Episode: 6, Total Reward: [154.09999]\n",
      "Episode: 7, Total Reward: [130.20055]\n",
      "Episode: 8, Total Reward: [163.4997]\n",
      "Episode: 9, Total Reward: [150.79999]\n"
     ]
    }
   ],
   "source": [
    "model = PPO2.load('Model Weights/PPO/Baseline Environment Agent/PPO_MODEL_1-v98/PPO_MODEL_1',env=env)\n",
    "\n",
    "model.set_env(env)\n",
    "\n",
    "for episode in range(10):\n",
    "    obs = env.reset()\n",
    "    total_reward = 0\n",
    "    done=False\n",
    "    while not done:\n",
    "        action, states = model.predict(obs)\n",
    "        obs, reward, done, info = env.step(action)\n",
    "        total_reward += reward\n",
    "        env.render()\n",
    "    print(f'Episode: {episode}, Total Reward: {total_reward}')\n",
    "env.close()"
   ]
  },
  {
   "cell_type": "markdown",
   "id": "8071347b",
   "metadata": {},
   "source": [
    "# Hard environment (Obstacles, Bonus, intersection, more complex tracks)"
   ]
  },
  {
   "cell_type": "markdown",
   "id": "bf35c0a3",
   "metadata": {},
   "source": [
    "- Initial model is the one trained on the baseline environment.\n",
    "- The idea is to fine tune it to work in a more complex environment \n",
    "- Bonus value = 50 vs Obstacle value = -50 (hard coded in environment code)"
   ]
  },
  {
   "cell_type": "markdown",
   "id": "382f4dd4",
   "metadata": {},
   "source": [
    "Complexity is set through 3 parameters: \n",
    "- num_tracks: 1 for basic track, 2 for more complex tracks with intersection (X, t type)\n",
    "- num_lanes: number of lanes for the track 1 for normal, 2 for multiple lanes\n",
    "- num_lanes_changes: number of time two lanes will be merged into 1 over the track\n",
    "\n",
    "Obstacles/Bonus are controled by 2 parameters\n",
    "- num_obstacles: number of obstacles by sub section of the track (if different than 0 then there are obstacles)\n",
    "If the car touched an obstacle, 50 points are deducted from the score\n",
    "- prop_good_obstacles: probability (set between 0-1) for an obstacles to be a bonus (yellow color instead of red + reward 50 points if touched)\n"
   ]
  },
  {
   "cell_type": "markdown",
   "id": "b737db00",
   "metadata": {},
   "source": [
    "## Training"
   ]
  },
  {
   "cell_type": "code",
   "execution_count": 5,
   "id": "45e7692f",
   "metadata": {},
   "outputs": [],
   "source": [
    "env = lambda : CarRacing(\n",
    "        grayscale=1,\n",
    "        show_info_panel=0,\n",
    "        discretize_actions=\"hard\",\n",
    "        frames_per_state=4,\n",
    "        num_lanes=1,\n",
    "        num_lanes_changes=1,\n",
    "        num_tracks=2,\n",
    "        allow_reverse=False,\n",
    "        max_time_out=2,\n",
    "        verbose=0,\n",
    "        num_obstacles=5,\n",
    "        prop_good_obstacles=0.5)"
   ]
  },
  {
   "cell_type": "code",
   "execution_count": 6,
   "id": "7b561b6c",
   "metadata": {
    "scrolled": true
   },
   "outputs": [
    {
     "name": "stderr",
     "output_type": "stream",
     "text": [
      "Failed to detect the name of this notebook, you can set it manually with the WANDB_NOTEBOOK_NAME environment variable to enable code saving.\n",
      "\u001b[34m\u001b[1mwandb\u001b[0m: Currently logged in as: \u001b[33mant_ai\u001b[0m. Use \u001b[1m`wandb login --relogin`\u001b[0m to force relogin\n"
     ]
    },
    {
     "data": {
      "text/html": [
       "wandb version 0.14.2 is available!  To upgrade, please run:\n",
       " $ pip install wandb --upgrade"
      ],
      "text/plain": [
       "<IPython.core.display.HTML object>"
      ]
     },
     "metadata": {},
     "output_type": "display_data"
    },
    {
     "data": {
      "text/html": [
       "Tracking run with wandb version 0.14.1"
      ],
      "text/plain": [
       "<IPython.core.display.HTML object>"
      ]
     },
     "metadata": {},
     "output_type": "display_data"
    },
    {
     "data": {
      "text/html": [
       "Run data is saved locally in <code>C:\\Users\\antoi\\Downloads\\Project RL\\wandb\\run-20230410_010712-1</code>"
      ],
      "text/plain": [
       "<IPython.core.display.HTML object>"
      ]
     },
     "metadata": {},
     "output_type": "display_data"
    },
    {
     "data": {
      "text/html": [
       "Syncing run <strong><a href='https://wandb.ai/ant_ai/PPO_With_Obstacles/runs/1' target=\"_blank\">1</a></strong> to <a href='https://wandb.ai/ant_ai/PPO_With_Obstacles' target=\"_blank\">Weights & Biases</a> (<a href='https://wandb.me/run' target=\"_blank\">docs</a>)<br/>"
      ],
      "text/plain": [
       "<IPython.core.display.HTML object>"
      ]
     },
     "metadata": {},
     "output_type": "display_data"
    },
    {
     "data": {
      "text/html": [
       " View project at <a href='https://wandb.ai/ant_ai/PPO_With_Obstacles' target=\"_blank\">https://wandb.ai/ant_ai/PPO_With_Obstacles</a>"
      ],
      "text/plain": [
       "<IPython.core.display.HTML object>"
      ]
     },
     "metadata": {},
     "output_type": "display_data"
    },
    {
     "data": {
      "text/html": [
       " View run at <a href='https://wandb.ai/ant_ai/PPO_With_Obstacles/runs/1' target=\"_blank\">https://wandb.ai/ant_ai/PPO_With_Obstacles/runs/1</a>"
      ],
      "text/plain": [
       "<IPython.core.display.HTML object>"
      ]
     },
     "metadata": {},
     "output_type": "display_data"
    },
    {
     "name": "stdout",
     "output_type": "stream",
     "text": [
      "INITIALIZE NEW PPO MODEL\n",
      "-------------------------------------\n",
      "| approxkl           | 0.019688921  |\n",
      "| clipfrac           | 0.1977539    |\n",
      "| explained_variance | 0.249        |\n",
      "| fps                | 50           |\n",
      "| n_updates          | 1            |\n",
      "| policy_entropy     | 0.68237      |\n",
      "| policy_loss        | -0.009537595 |\n",
      "| serial_timesteps   | 128          |\n",
      "| time_elapsed       | 0            |\n",
      "| total_timesteps    | 512          |\n",
      "| value_loss         | 22.456802    |\n",
      "-------------------------------------\n",
      "---------------------------------------\n",
      "| approxkl           | 0.005504113    |\n",
      "| clipfrac           | 0.0703125      |\n",
      "| ep_len_mean        | 1.1e+03        |\n",
      "| ep_reward_mean     | 114            |\n",
      "| explained_variance | 0.291          |\n",
      "| fps                | 74             |\n",
      "| n_updates          | 100            |\n",
      "| policy_entropy     | 0.7449099      |\n",
      "| policy_loss        | -0.00097121863 |\n",
      "| serial_timesteps   | 12800          |\n",
      "| time_elapsed       | 627            |\n",
      "| total_timesteps    | 51200          |\n",
      "| value_loss         | 5.823871       |\n",
      "---------------------------------------\n",
      "-------------------------------------\n",
      "| approxkl           | 0.0018883066 |\n",
      "| clipfrac           | 0.01953125   |\n",
      "| ep_len_mean        | 953          |\n",
      "| ep_reward_mean     | 78.4         |\n",
      "| explained_variance | 0.487        |\n",
      "| fps                | 83           |\n",
      "| n_updates          | 200          |\n",
      "| policy_entropy     | 0.6174838    |\n",
      "| policy_loss        | -0.009327519 |\n",
      "| serial_timesteps   | 25600        |\n",
      "| time_elapsed       | 1.26e+03     |\n",
      "| total_timesteps    | 102400       |\n",
      "| value_loss         | 3.446394     |\n",
      "-------------------------------------\n",
      "-------------------------------------\n",
      "| approxkl           | 0.0065250024 |\n",
      "| clipfrac           | 0.05078125   |\n",
      "| ep_len_mean        | 895          |\n",
      "| ep_reward_mean     | 76.1         |\n",
      "| explained_variance | 0.494        |\n",
      "| fps                | 89           |\n",
      "| n_updates          | 300          |\n",
      "| policy_entropy     | 0.8887441    |\n",
      "| policy_loss        | -0.013464873 |\n",
      "| serial_timesteps   | 38400        |\n",
      "| time_elapsed       | 1.88e+03     |\n",
      "| total_timesteps    | 153600       |\n",
      "| value_loss         | 50.182983    |\n",
      "-------------------------------------\n",
      "--------------------------------------\n",
      "| approxkl           | 0.0039292513  |\n",
      "| clipfrac           | 0.05908203    |\n",
      "| ep_len_mean        | 952           |\n",
      "| ep_reward_mean     | 69.8          |\n",
      "| explained_variance | 0.18          |\n",
      "| fps                | 73            |\n",
      "| n_updates          | 400           |\n",
      "| policy_entropy     | 0.6344834     |\n",
      "| policy_loss        | -0.0010090434 |\n",
      "| serial_timesteps   | 51200         |\n",
      "| time_elapsed       | 2.51e+03      |\n",
      "| total_timesteps    | 204800        |\n",
      "| value_loss         | 41.97315      |\n",
      "--------------------------------------\n",
      "--------------------------------------\n",
      "| approxkl           | 0.0077871494  |\n",
      "| clipfrac           | 0.09326172    |\n",
      "| ep_len_mean        | 974           |\n",
      "| ep_reward_mean     | 86.3          |\n",
      "| explained_variance | 0.254         |\n",
      "| fps                | 88            |\n",
      "| n_updates          | 500           |\n",
      "| policy_entropy     | 0.8462668     |\n",
      "| policy_loss        | -0.0104384115 |\n",
      "| serial_timesteps   | 64000         |\n",
      "| time_elapsed       | 3.13e+03      |\n",
      "| total_timesteps    | 256000        |\n",
      "| value_loss         | 2.3959942     |\n",
      "--------------------------------------\n",
      "-------------------------------------\n",
      "| approxkl           | 0.011175337  |\n",
      "| clipfrac           | 0.1015625    |\n",
      "| ep_len_mean        | 1e+03        |\n",
      "| ep_reward_mean     | 122          |\n",
      "| explained_variance | 0.928        |\n",
      "| fps                | 88           |\n",
      "| n_updates          | 600          |\n",
      "| policy_entropy     | 0.8154386    |\n",
      "| policy_loss        | -0.011943143 |\n",
      "| serial_timesteps   | 76800        |\n",
      "| time_elapsed       | 3.75e+03     |\n",
      "| total_timesteps    | 307200       |\n",
      "| value_loss         | 4.620601     |\n",
      "-------------------------------------\n",
      "--------------------------------------\n",
      "| approxkl           | 0.0030106076  |\n",
      "| clipfrac           | 0.03515625    |\n",
      "| ep_len_mean        | 937           |\n",
      "| ep_reward_mean     | 103           |\n",
      "| explained_variance | 0.0768        |\n",
      "| fps                | 85            |\n",
      "| n_updates          | 700           |\n",
      "| policy_entropy     | 0.77699184    |\n",
      "| policy_loss        | -0.0036441977 |\n",
      "| serial_timesteps   | 89600         |\n",
      "| time_elapsed       | 4.37e+03      |\n",
      "| total_timesteps    | 358400        |\n",
      "| value_loss         | 34.22616      |\n",
      "--------------------------------------\n",
      "-------------------------------------\n",
      "| approxkl           | 0.008254421  |\n",
      "| clipfrac           | 0.10888672   |\n",
      "| ep_len_mean        | 1.01e+03     |\n",
      "| ep_reward_mean     | 109          |\n",
      "| explained_variance | 0.444        |\n",
      "| fps                | 84           |\n",
      "| n_updates          | 800          |\n",
      "| policy_entropy     | 0.8989198    |\n",
      "| policy_loss        | -0.010329729 |\n",
      "| serial_timesteps   | 102400       |\n",
      "| time_elapsed       | 4.99e+03     |\n",
      "| total_timesteps    | 409600       |\n",
      "| value_loss         | 1.645612     |\n",
      "-------------------------------------\n",
      "-------------------------------------\n",
      "| approxkl           | 0.0021408615 |\n",
      "| clipfrac           | 0.022460938  |\n",
      "| ep_len_mean        | 1.08e+03     |\n",
      "| ep_reward_mean     | 134          |\n",
      "| explained_variance | 0.517        |\n",
      "| fps                | 70           |\n",
      "| n_updates          | 900          |\n",
      "| policy_entropy     | 0.767046     |\n",
      "| policy_loss        | -0.006524426 |\n",
      "| serial_timesteps   | 115200       |\n",
      "| time_elapsed       | 5.62e+03     |\n",
      "| total_timesteps    | 460800       |\n",
      "| value_loss         | 3.5218925    |\n",
      "-------------------------------------\n",
      "-------------------------------------\n",
      "| approxkl           | 0.0035387857 |\n",
      "| clipfrac           | 0.041015625  |\n",
      "| ep_len_mean        | 1.04e+03     |\n",
      "| ep_reward_mean     | 117          |\n",
      "| explained_variance | 0.101        |\n",
      "| fps                | 69           |\n",
      "| n_updates          | 1000         |\n",
      "| policy_entropy     | 0.8113496    |\n",
      "| policy_loss        | -0.008158825 |\n",
      "| serial_timesteps   | 128000       |\n",
      "| time_elapsed       | 6.25e+03     |\n",
      "| total_timesteps    | 512000       |\n",
      "| value_loss         | 64.296555    |\n",
      "-------------------------------------\n",
      "--------------------------------------\n",
      "| approxkl           | 0.0048409305  |\n",
      "| clipfrac           | 0.0546875     |\n",
      "| ep_len_mean        | 1.05e+03      |\n",
      "| ep_reward_mean     | 119           |\n",
      "| explained_variance | 0.173         |\n",
      "| fps                | 87            |\n",
      "| n_updates          | 1100          |\n",
      "| policy_entropy     | 0.789648      |\n",
      "| policy_loss        | -0.0005040724 |\n",
      "| serial_timesteps   | 140800        |\n",
      "| time_elapsed       | 6.87e+03      |\n",
      "| total_timesteps    | 563200        |\n",
      "| value_loss         | 25.367443     |\n",
      "--------------------------------------\n",
      "--------------------------------------\n",
      "| approxkl           | 0.0017348479  |\n",
      "| clipfrac           | 0.014160156   |\n",
      "| ep_len_mean        | 1.14e+03      |\n",
      "| ep_reward_mean     | 109           |\n",
      "| explained_variance | 0.0497        |\n",
      "| fps                | 90            |\n",
      "| n_updates          | 1200          |\n",
      "| policy_entropy     | 0.5824964     |\n",
      "| policy_loss        | -0.0043600076 |\n",
      "| serial_timesteps   | 153600        |\n",
      "| time_elapsed       | 7.49e+03      |\n",
      "| total_timesteps    | 614400        |\n",
      "| value_loss         | 130.5797      |\n",
      "--------------------------------------\n",
      "--------------------------------------\n",
      "| approxkl           | 0.006016331   |\n",
      "| clipfrac           | 0.059570312   |\n",
      "| ep_len_mean        | 1.13e+03      |\n",
      "| ep_reward_mean     | 82.1          |\n",
      "| explained_variance | 0.748         |\n",
      "| fps                | 89            |\n",
      "| n_updates          | 1300          |\n",
      "| policy_entropy     | 0.98772186    |\n",
      "| policy_loss        | -0.0075053326 |\n",
      "| serial_timesteps   | 166400        |\n",
      "| time_elapsed       | 8.11e+03      |\n",
      "| total_timesteps    | 665600        |\n",
      "| value_loss         | 12.531697     |\n",
      "--------------------------------------\n",
      "-------------------------------------\n",
      "| approxkl           | 0.013163612  |\n",
      "| clipfrac           | 0.20361328   |\n",
      "| ep_len_mean        | 1.09e+03     |\n",
      "| ep_reward_mean     | 97.5         |\n",
      "| explained_variance | 0.458        |\n",
      "| fps                | 83           |\n",
      "| n_updates          | 1400         |\n",
      "| policy_entropy     | 0.96835726   |\n",
      "| policy_loss        | -0.008377057 |\n",
      "| serial_timesteps   | 179200       |\n",
      "| time_elapsed       | 8.73e+03     |\n",
      "| total_timesteps    | 716800       |\n",
      "| value_loss         | 31.880981    |\n",
      "-------------------------------------\n"
     ]
    },
    {
     "name": "stdout",
     "output_type": "stream",
     "text": [
      "-------------------------------------\n",
      "| approxkl           | 0.008492806  |\n",
      "| clipfrac           | 0.10058594   |\n",
      "| ep_len_mean        | 1.03e+03     |\n",
      "| ep_reward_mean     | 142          |\n",
      "| explained_variance | 0.00212      |\n",
      "| fps                | 88           |\n",
      "| n_updates          | 1500         |\n",
      "| policy_entropy     | 0.75509036   |\n",
      "| policy_loss        | -0.020744074 |\n",
      "| serial_timesteps   | 192000       |\n",
      "| time_elapsed       | 9.35e+03     |\n",
      "| total_timesteps    | 768000       |\n",
      "| value_loss         | 1.4775622    |\n",
      "-------------------------------------\n",
      "--------------------------------------\n",
      "| approxkl           | 0.0059611653  |\n",
      "| clipfrac           | 0.080078125   |\n",
      "| ep_len_mean        | 979           |\n",
      "| ep_reward_mean     | 137           |\n",
      "| explained_variance | 0.112         |\n",
      "| fps                | 79            |\n",
      "| n_updates          | 1600          |\n",
      "| policy_entropy     | 0.7214931     |\n",
      "| policy_loss        | -0.0013934328 |\n",
      "| serial_timesteps   | 204800        |\n",
      "| time_elapsed       | 9.97e+03      |\n",
      "| total_timesteps    | 819200        |\n",
      "| value_loss         | 23.945135     |\n",
      "--------------------------------------\n",
      "-------------------------------------\n",
      "| approxkl           | 0.0045524975 |\n",
      "| clipfrac           | 0.061523438  |\n",
      "| ep_len_mean        | 964          |\n",
      "| ep_reward_mean     | 118          |\n",
      "| explained_variance | 0.131        |\n",
      "| fps                | 85           |\n",
      "| n_updates          | 1700         |\n",
      "| policy_entropy     | 0.74095213   |\n",
      "| policy_loss        | -0.010210143 |\n",
      "| serial_timesteps   | 217600       |\n",
      "| time_elapsed       | 1.06e+04     |\n",
      "| total_timesteps    | 870400       |\n",
      "| value_loss         | 22.812498    |\n",
      "-------------------------------------\n",
      "--------------------------------------\n",
      "| approxkl           | 0.0024564029  |\n",
      "| clipfrac           | 0.03173828    |\n",
      "| ep_len_mean        | 918           |\n",
      "| ep_reward_mean     | 98            |\n",
      "| explained_variance | 0.0125        |\n",
      "| fps                | 80            |\n",
      "| n_updates          | 1800          |\n",
      "| policy_entropy     | 0.6133518     |\n",
      "| policy_loss        | -0.0011731649 |\n",
      "| serial_timesteps   | 230400        |\n",
      "| time_elapsed       | 1.12e+04      |\n",
      "| total_timesteps    | 921600        |\n",
      "| value_loss         | 51.46748      |\n",
      "--------------------------------------\n",
      "--------------------------------------\n",
      "| approxkl           | 0.011383446   |\n",
      "| clipfrac           | 0.15820312    |\n",
      "| ep_len_mean        | 861           |\n",
      "| ep_reward_mean     | 96.6          |\n",
      "| explained_variance | 0.0925        |\n",
      "| fps                | 86            |\n",
      "| n_updates          | 1900          |\n",
      "| policy_entropy     | 0.5844257     |\n",
      "| policy_loss        | -0.0048983577 |\n",
      "| serial_timesteps   | 243200        |\n",
      "| time_elapsed       | 1.18e+04      |\n",
      "| total_timesteps    | 972800        |\n",
      "| value_loss         | 59.669777     |\n",
      "--------------------------------------\n",
      "--------------------------------------\n",
      "| approxkl           | 0.0045344625  |\n",
      "| clipfrac           | 0.05517578    |\n",
      "| ep_len_mean        | 824           |\n",
      "| ep_reward_mean     | 106           |\n",
      "| explained_variance | 0.658         |\n",
      "| fps                | 86            |\n",
      "| n_updates          | 2000          |\n",
      "| policy_entropy     | 0.6327348     |\n",
      "| policy_loss        | -0.0071536805 |\n",
      "| serial_timesteps   | 256000        |\n",
      "| time_elapsed       | 1.25e+04      |\n",
      "| total_timesteps    | 1024000       |\n",
      "| value_loss         | 12.963141     |\n",
      "--------------------------------------\n",
      "-------------------------------------\n",
      "| approxkl           | 0.016875803  |\n",
      "| clipfrac           | 0.049316406  |\n",
      "| ep_len_mean        | 823          |\n",
      "| ep_reward_mean     | 101          |\n",
      "| explained_variance | -0.0228      |\n",
      "| fps                | 87           |\n",
      "| n_updates          | 2100         |\n",
      "| policy_entropy     | 0.43568695   |\n",
      "| policy_loss        | -0.003116442 |\n",
      "| serial_timesteps   | 268800       |\n",
      "| time_elapsed       | 1.31e+04     |\n",
      "| total_timesteps    | 1075200      |\n",
      "| value_loss         | 12.901859    |\n",
      "-------------------------------------\n",
      "saved from error\n",
      "--------------------------------------\n",
      "| approxkl           | 0.004335884   |\n",
      "| clipfrac           | 0.052246094   |\n",
      "| ep_len_mean        | 868           |\n",
      "| ep_reward_mean     | 86.1          |\n",
      "| explained_variance | -0.0771       |\n",
      "| fps                | 85            |\n",
      "| n_updates          | 2200          |\n",
      "| policy_entropy     | 0.60422415    |\n",
      "| policy_loss        | -0.0043799537 |\n",
      "| serial_timesteps   | 281600        |\n",
      "| time_elapsed       | 1.37e+04      |\n",
      "| total_timesteps    | 1126400       |\n",
      "| value_loss         | 23.044895     |\n",
      "--------------------------------------\n",
      "---------------------------------------\n",
      "| approxkl           | 0.0028126596   |\n",
      "| clipfrac           | 0.030273438    |\n",
      "| ep_len_mean        | 943            |\n",
      "| ep_reward_mean     | 86.5           |\n",
      "| explained_variance | -0.0946        |\n",
      "| fps                | 74             |\n",
      "| n_updates          | 2300           |\n",
      "| policy_entropy     | 0.5905007      |\n",
      "| policy_loss        | -0.00040945178 |\n",
      "| serial_timesteps   | 294400         |\n",
      "| time_elapsed       | 1.43e+04       |\n",
      "| total_timesteps    | 1177600        |\n",
      "| value_loss         | 26.140974      |\n",
      "---------------------------------------\n",
      "-------------------------------------\n",
      "| approxkl           | 0.004338582  |\n",
      "| clipfrac           | 0.053222656  |\n",
      "| ep_len_mean        | 903          |\n",
      "| ep_reward_mean     | 99.2         |\n",
      "| explained_variance | 0.736        |\n",
      "| fps                | 86           |\n",
      "| n_updates          | 2400         |\n",
      "| policy_entropy     | 0.69058365   |\n",
      "| policy_loss        | -0.010619141 |\n",
      "| serial_timesteps   | 307200       |\n",
      "| time_elapsed       | 1.5e+04      |\n",
      "| total_timesteps    | 1228800      |\n",
      "| value_loss         | 9.380915     |\n",
      "-------------------------------------\n",
      "-------------------------------------\n",
      "| approxkl           | 0.0049081417 |\n",
      "| clipfrac           | 0.0703125    |\n",
      "| ep_len_mean        | 933          |\n",
      "| ep_reward_mean     | 104          |\n",
      "| explained_variance | 0.434        |\n",
      "| fps                | 84           |\n",
      "| n_updates          | 2500         |\n",
      "| policy_entropy     | 0.53446555   |\n",
      "| policy_loss        | -0.01078395  |\n",
      "| serial_timesteps   | 320000       |\n",
      "| time_elapsed       | 1.56e+04     |\n",
      "| total_timesteps    | 1280000      |\n",
      "| value_loss         | 4.8420997    |\n",
      "-------------------------------------\n",
      "-------------------------------------\n",
      "| approxkl           | 0.034183368  |\n",
      "| clipfrac           | 0.061035156  |\n",
      "| ep_len_mean        | 964          |\n",
      "| ep_reward_mean     | 126          |\n",
      "| explained_variance | 0.209        |\n",
      "| fps                | 78           |\n",
      "| n_updates          | 2600         |\n",
      "| policy_entropy     | 0.53478384   |\n",
      "| policy_loss        | -0.009036267 |\n",
      "| serial_timesteps   | 332800       |\n",
      "| time_elapsed       | 1.62e+04     |\n",
      "| total_timesteps    | 1331200      |\n",
      "| value_loss         | 44.26895     |\n",
      "-------------------------------------\n",
      "--------------------------------------\n",
      "| approxkl           | 0.0049115564  |\n",
      "| clipfrac           | 0.072265625   |\n",
      "| ep_len_mean        | 909           |\n",
      "| ep_reward_mean     | 119           |\n",
      "| explained_variance | 0.44          |\n",
      "| fps                | 72            |\n",
      "| n_updates          | 2700          |\n",
      "| policy_entropy     | 0.60062045    |\n",
      "| policy_loss        | -0.0029923508 |\n",
      "| serial_timesteps   | 345600        |\n",
      "| time_elapsed       | 1.68e+04      |\n",
      "| total_timesteps    | 1382400       |\n",
      "| value_loss         | 28.185421     |\n",
      "--------------------------------------\n",
      "--------------------------------------\n",
      "| approxkl           | 0.009011566   |\n",
      "| clipfrac           | 0.095703125   |\n",
      "| ep_len_mean        | 871           |\n",
      "| ep_reward_mean     | 115           |\n",
      "| explained_variance | 0.704         |\n",
      "| fps                | 88            |\n",
      "| n_updates          | 2800          |\n",
      "| policy_entropy     | 0.71741176    |\n",
      "| policy_loss        | -0.0098294765 |\n",
      "| serial_timesteps   | 358400        |\n",
      "| time_elapsed       | 1.75e+04      |\n",
      "| total_timesteps    | 1433600       |\n",
      "| value_loss         | 5.071507      |\n",
      "--------------------------------------\n",
      "--------------------------------------\n",
      "| approxkl           | 0.0042203637  |\n",
      "| clipfrac           | 0.052246094   |\n",
      "| ep_len_mean        | 824           |\n",
      "| ep_reward_mean     | 133           |\n",
      "| explained_variance | 0.342         |\n",
      "| fps                | 86            |\n",
      "| n_updates          | 2900          |\n",
      "| policy_entropy     | 0.48846304    |\n",
      "| policy_loss        | -0.0009785239 |\n",
      "| serial_timesteps   | 371200        |\n",
      "| time_elapsed       | 1.81e+04      |\n",
      "| total_timesteps    | 1484800       |\n",
      "| value_loss         | 37.86506      |\n",
      "--------------------------------------\n"
     ]
    },
    {
     "name": "stdout",
     "output_type": "stream",
     "text": [
      "--------------------------------------\n",
      "| approxkl           | 0.014655727   |\n",
      "| clipfrac           | 0.07861328    |\n",
      "| ep_len_mean        | 800           |\n",
      "| ep_reward_mean     | 133           |\n",
      "| explained_variance | 0.519         |\n",
      "| fps                | 89            |\n",
      "| n_updates          | 3000          |\n",
      "| policy_entropy     | 0.49510506    |\n",
      "| policy_loss        | -0.0076194443 |\n",
      "| serial_timesteps   | 384000        |\n",
      "| time_elapsed       | 1.87e+04      |\n",
      "| total_timesteps    | 1536000       |\n",
      "| value_loss         | 61.84205      |\n",
      "--------------------------------------\n",
      "-------------------------------------\n",
      "| approxkl           | 0.0033818914 |\n",
      "| clipfrac           | 0.03173828   |\n",
      "| ep_len_mean        | 949          |\n",
      "| ep_reward_mean     | 144          |\n",
      "| explained_variance | 0.163        |\n",
      "| fps                | 80           |\n",
      "| n_updates          | 3100         |\n",
      "| policy_entropy     | 0.79401845   |\n",
      "| policy_loss        | -0.002059787 |\n",
      "| serial_timesteps   | 396800       |\n",
      "| time_elapsed       | 1.93e+04     |\n",
      "| total_timesteps    | 1587200      |\n",
      "| value_loss         | 41.670757    |\n",
      "-------------------------------------\n",
      "--------------------------------------\n",
      "| approxkl           | 0.0077392566  |\n",
      "| clipfrac           | 0.080078125   |\n",
      "| ep_len_mean        | 1.17e+03      |\n",
      "| ep_reward_mean     | 148           |\n",
      "| explained_variance | 0.602         |\n",
      "| fps                | 89            |\n",
      "| n_updates          | 3200          |\n",
      "| policy_entropy     | 0.57130885    |\n",
      "| policy_loss        | -0.0028041708 |\n",
      "| serial_timesteps   | 409600        |\n",
      "| time_elapsed       | 1.99e+04      |\n",
      "| total_timesteps    | 1638400       |\n",
      "| value_loss         | 29.753988     |\n",
      "--------------------------------------\n",
      "---------------------------------------\n",
      "| approxkl           | 0.0019362135   |\n",
      "| clipfrac           | 0.020996094    |\n",
      "| ep_len_mean        | 925            |\n",
      "| ep_reward_mean     | 102            |\n",
      "| explained_variance | 0.577          |\n",
      "| fps                | 75             |\n",
      "| n_updates          | 3300           |\n",
      "| policy_entropy     | 0.420875       |\n",
      "| policy_loss        | -2.9927178e-05 |\n",
      "| serial_timesteps   | 422400         |\n",
      "| time_elapsed       | 2.06e+04       |\n",
      "| total_timesteps    | 1689600        |\n",
      "| value_loss         | 118.141975     |\n",
      "---------------------------------------\n",
      "--------------------------------------\n",
      "| approxkl           | 0.0048883604  |\n",
      "| clipfrac           | 0.06298828    |\n",
      "| ep_len_mean        | 866           |\n",
      "| ep_reward_mean     | 93.9          |\n",
      "| explained_variance | 0.767         |\n",
      "| fps                | 85            |\n",
      "| n_updates          | 3400          |\n",
      "| policy_entropy     | 0.62443537    |\n",
      "| policy_loss        | -0.0043835966 |\n",
      "| serial_timesteps   | 435200        |\n",
      "| time_elapsed       | 2.12e+04      |\n",
      "| total_timesteps    | 1740800       |\n",
      "| value_loss         | 10.643365     |\n",
      "--------------------------------------\n",
      "------------------------------------\n",
      "| approxkl           | 0.011945082 |\n",
      "| clipfrac           | 0.04345703  |\n",
      "| ep_len_mean        | 988         |\n",
      "| ep_reward_mean     | 125         |\n",
      "| explained_variance | 0.683       |\n",
      "| fps                | 85          |\n",
      "| n_updates          | 3500        |\n",
      "| policy_entropy     | 0.41031414  |\n",
      "| policy_loss        | -0.00828152 |\n",
      "| serial_timesteps   | 448000      |\n",
      "| time_elapsed       | 2.18e+04    |\n",
      "| total_timesteps    | 1792000     |\n",
      "| value_loss         | 14.858774   |\n",
      "------------------------------------\n",
      "-------------------------------------\n",
      "| approxkl           | 0.007194117  |\n",
      "| clipfrac           | 0.07519531   |\n",
      "| ep_len_mean        | 860          |\n",
      "| ep_reward_mean     | 99.1         |\n",
      "| explained_variance | 0.8          |\n",
      "| fps                | 77           |\n",
      "| n_updates          | 3600         |\n",
      "| policy_entropy     | 0.5375257    |\n",
      "| policy_loss        | -0.016037595 |\n",
      "| serial_timesteps   | 460800       |\n",
      "| time_elapsed       | 2.24e+04     |\n",
      "| total_timesteps    | 1843200      |\n",
      "| value_loss         | 37.64022     |\n",
      "-------------------------------------\n",
      "-------------------------------------\n",
      "| approxkl           | 0.006839756  |\n",
      "| clipfrac           | 0.072753906  |\n",
      "| ep_len_mean        | 895          |\n",
      "| ep_reward_mean     | 109          |\n",
      "| explained_variance | 0.579        |\n",
      "| fps                | 84           |\n",
      "| n_updates          | 3700         |\n",
      "| policy_entropy     | 0.49005213   |\n",
      "| policy_loss        | 0.0014296477 |\n",
      "| serial_timesteps   | 473600       |\n",
      "| time_elapsed       | 2.31e+04     |\n",
      "| total_timesteps    | 1894400      |\n",
      "| value_loss         | 29.69038     |\n",
      "-------------------------------------\n",
      "---------------------------------------\n",
      "| approxkl           | 0.011011256    |\n",
      "| clipfrac           | 0.13671875     |\n",
      "| ep_len_mean        | 964            |\n",
      "| ep_reward_mean     | 149            |\n",
      "| explained_variance | 0.35           |\n",
      "| fps                | 73             |\n",
      "| n_updates          | 3800           |\n",
      "| policy_entropy     | 0.5736412      |\n",
      "| policy_loss        | -0.00030565885 |\n",
      "| serial_timesteps   | 486400         |\n",
      "| time_elapsed       | 2.37e+04       |\n",
      "| total_timesteps    | 1945600        |\n",
      "| value_loss         | 50.75176       |\n",
      "---------------------------------------\n",
      "-------------------------------------\n",
      "| approxkl           | 0.0046698167 |\n",
      "| clipfrac           | 0.06542969   |\n",
      "| ep_len_mean        | 953          |\n",
      "| ep_reward_mean     | 147          |\n",
      "| explained_variance | 0.603        |\n",
      "| fps                | 86           |\n",
      "| n_updates          | 3900         |\n",
      "| policy_entropy     | 0.65655994   |\n",
      "| policy_loss        | -0.007506375 |\n",
      "| serial_timesteps   | 499200       |\n",
      "| time_elapsed       | 2.43e+04     |\n",
      "| total_timesteps    | 1996800      |\n",
      "| value_loss         | 34.024902    |\n",
      "-------------------------------------\n",
      "-------------------------------------\n",
      "| approxkl           | 0.005367114  |\n",
      "| clipfrac           | 0.063964844  |\n",
      "| ep_len_mean        | 948          |\n",
      "| ep_reward_mean     | 139          |\n",
      "| explained_variance | 0.14         |\n",
      "| fps                | 80           |\n",
      "| n_updates          | 4000         |\n",
      "| policy_entropy     | 0.695347     |\n",
      "| policy_loss        | -0.008521324 |\n",
      "| serial_timesteps   | 512000       |\n",
      "| time_elapsed       | 2.49e+04     |\n",
      "| total_timesteps    | 2048000      |\n",
      "| value_loss         | 25.635326    |\n",
      "-------------------------------------\n",
      "--------------------------------------\n",
      "| approxkl           | 0.0079139015  |\n",
      "| clipfrac           | 0.07714844    |\n",
      "| ep_len_mean        | 1.07e+03      |\n",
      "| ep_reward_mean     | 141           |\n",
      "| explained_variance | 0.759         |\n",
      "| fps                | 86            |\n",
      "| n_updates          | 4100          |\n",
      "| policy_entropy     | 0.51703       |\n",
      "| policy_loss        | -0.0073830774 |\n",
      "| serial_timesteps   | 524800        |\n",
      "| time_elapsed       | 2.56e+04      |\n",
      "| total_timesteps    | 2099200       |\n",
      "| value_loss         | 15.0002985    |\n",
      "--------------------------------------\n",
      "--------------------------------------\n",
      "| approxkl           | 0.005104557   |\n",
      "| clipfrac           | 0.060058594   |\n",
      "| ep_len_mean        | 1.01e+03      |\n",
      "| ep_reward_mean     | 122           |\n",
      "| explained_variance | 0.857         |\n",
      "| fps                | 88            |\n",
      "| n_updates          | 4200          |\n",
      "| policy_entropy     | 0.6952232     |\n",
      "| policy_loss        | -0.0059436103 |\n",
      "| serial_timesteps   | 537600        |\n",
      "| time_elapsed       | 2.62e+04      |\n",
      "| total_timesteps    | 2150400       |\n",
      "| value_loss         | 23.312988     |\n",
      "--------------------------------------\n",
      "--------------------------------------\n",
      "| approxkl           | 0.017989295   |\n",
      "| clipfrac           | 0.09472656    |\n",
      "| ep_len_mean        | 825           |\n",
      "| ep_reward_mean     | 60.5          |\n",
      "| explained_variance | 0.825         |\n",
      "| fps                | 85            |\n",
      "| n_updates          | 4300          |\n",
      "| policy_entropy     | 0.55606234    |\n",
      "| policy_loss        | -0.0045285537 |\n",
      "| serial_timesteps   | 550400        |\n",
      "| time_elapsed       | 2.68e+04      |\n",
      "| total_timesteps    | 2201600       |\n",
      "| value_loss         | 43.70123      |\n",
      "--------------------------------------\n",
      "------------------------------------\n",
      "| approxkl           | 0.007031235 |\n",
      "| clipfrac           | 0.080078125 |\n",
      "| ep_len_mean        | 767         |\n",
      "| ep_reward_mean     | 89.4        |\n",
      "| explained_variance | 0.832       |\n",
      "| fps                | 87          |\n",
      "| n_updates          | 4400        |\n",
      "| policy_entropy     | 0.73902756  |\n",
      "| policy_loss        | -0.01733802 |\n",
      "| serial_timesteps   | 563200      |\n",
      "| time_elapsed       | 2.75e+04    |\n",
      "| total_timesteps    | 2252800     |\n",
      "| value_loss         | 1.6065772   |\n",
      "------------------------------------\n"
     ]
    },
    {
     "name": "stdout",
     "output_type": "stream",
     "text": [
      "--------------------------------------\n",
      "| approxkl           | 0.004585153   |\n",
      "| clipfrac           | 0.06298828    |\n",
      "| ep_len_mean        | 856           |\n",
      "| ep_reward_mean     | 135           |\n",
      "| explained_variance | 0.703         |\n",
      "| fps                | 87            |\n",
      "| n_updates          | 4500          |\n",
      "| policy_entropy     | 0.42151642    |\n",
      "| policy_loss        | -0.0025164934 |\n",
      "| serial_timesteps   | 576000        |\n",
      "| time_elapsed       | 2.81e+04      |\n",
      "| total_timesteps    | 2304000       |\n",
      "| value_loss         | 16.7984       |\n",
      "--------------------------------------\n",
      "-------------------------------------\n",
      "| approxkl           | 0.009070338  |\n",
      "| clipfrac           | 0.06201172   |\n",
      "| ep_len_mean        | 856          |\n",
      "| ep_reward_mean     | 111          |\n",
      "| explained_variance | 0.859        |\n",
      "| fps                | 86           |\n",
      "| n_updates          | 4600         |\n",
      "| policy_entropy     | 0.46444973   |\n",
      "| policy_loss        | -0.019557245 |\n",
      "| serial_timesteps   | 588800       |\n",
      "| time_elapsed       | 2.87e+04     |\n",
      "| total_timesteps    | 2355200      |\n",
      "| value_loss         | 2.5185587    |\n",
      "-------------------------------------\n",
      "--------------------------------------\n",
      "| approxkl           | 0.0047803475  |\n",
      "| clipfrac           | 0.057617188   |\n",
      "| ep_len_mean        | 840           |\n",
      "| ep_reward_mean     | 134           |\n",
      "| explained_variance | 0.639         |\n",
      "| fps                | 75            |\n",
      "| n_updates          | 4700          |\n",
      "| policy_entropy     | 0.6331106     |\n",
      "| policy_loss        | -0.0037696986 |\n",
      "| serial_timesteps   | 601600        |\n",
      "| time_elapsed       | 2.93e+04      |\n",
      "| total_timesteps    | 2406400       |\n",
      "| value_loss         | 31.638706     |\n",
      "--------------------------------------\n",
      "------------------------------------\n",
      "| approxkl           | 0.007735938 |\n",
      "| clipfrac           | 0.09277344  |\n",
      "| ep_len_mean        | 926         |\n",
      "| ep_reward_mean     | 155         |\n",
      "| explained_variance | 0.377       |\n",
      "| fps                | 79          |\n",
      "| n_updates          | 4800        |\n",
      "| policy_entropy     | 0.6554769   |\n",
      "| policy_loss        | -0.01428148 |\n",
      "| serial_timesteps   | 614400      |\n",
      "| time_elapsed       | 3e+04       |\n",
      "| total_timesteps    | 2457600     |\n",
      "| value_loss         | 7.642116    |\n",
      "------------------------------------\n",
      "--------------------------------------\n",
      "| approxkl           | 0.004430835   |\n",
      "| clipfrac           | 0.052246094   |\n",
      "| ep_len_mean        | 984           |\n",
      "| ep_reward_mean     | 158           |\n",
      "| explained_variance | 0.04          |\n",
      "| fps                | 78            |\n",
      "| n_updates          | 4900          |\n",
      "| policy_entropy     | 0.82908046    |\n",
      "| policy_loss        | -0.0065053096 |\n",
      "| serial_timesteps   | 627200        |\n",
      "| time_elapsed       | 3.06e+04      |\n",
      "| total_timesteps    | 2508800       |\n",
      "| value_loss         | 24.804386     |\n",
      "--------------------------------------\n",
      "saved from error\n",
      "-------------------------------------\n",
      "| approxkl           | 0.0053580785 |\n",
      "| clipfrac           | 0.05810547   |\n",
      "| ep_len_mean        | 976          |\n",
      "| ep_reward_mean     | 117          |\n",
      "| explained_variance | 0.758        |\n",
      "| fps                | 88           |\n",
      "| n_updates          | 5000         |\n",
      "| policy_entropy     | 0.55295026   |\n",
      "| policy_loss        | -0.009333682 |\n",
      "| serial_timesteps   | 640000       |\n",
      "| time_elapsed       | 3.12e+04     |\n",
      "| total_timesteps    | 2560000      |\n",
      "| value_loss         | 21.965572    |\n",
      "-------------------------------------\n",
      "--------------------------------------\n",
      "| approxkl           | 0.0049801106  |\n",
      "| clipfrac           | 0.060546875   |\n",
      "| ep_len_mean        | 943           |\n",
      "| ep_reward_mean     | 91.3          |\n",
      "| explained_variance | -0.0153       |\n",
      "| fps                | 85            |\n",
      "| n_updates          | 5100          |\n",
      "| policy_entropy     | 0.5911387     |\n",
      "| policy_loss        | -0.0030462884 |\n",
      "| serial_timesteps   | 652800        |\n",
      "| time_elapsed       | 3.18e+04      |\n",
      "| total_timesteps    | 2611200       |\n",
      "| value_loss         | 27.164824     |\n",
      "--------------------------------------\n",
      "-------------------------------------\n",
      "| approxkl           | 0.004556558  |\n",
      "| clipfrac           | 0.05078125   |\n",
      "| ep_len_mean        | 884          |\n",
      "| ep_reward_mean     | 119          |\n",
      "| explained_variance | 0.685        |\n",
      "| fps                | 75           |\n",
      "| n_updates          | 5200         |\n",
      "| policy_entropy     | 0.6107722    |\n",
      "| policy_loss        | -0.012706143 |\n",
      "| serial_timesteps   | 665600       |\n",
      "| time_elapsed       | 3.25e+04     |\n",
      "| total_timesteps    | 2662400      |\n",
      "| value_loss         | 78.90727     |\n",
      "-------------------------------------\n",
      "--------------------------------------\n",
      "| approxkl           | 0.0060576387  |\n",
      "| clipfrac           | 0.080566406   |\n",
      "| ep_len_mean        | 859           |\n",
      "| ep_reward_mean     | 131           |\n",
      "| explained_variance | 0.72          |\n",
      "| fps                | 71            |\n",
      "| n_updates          | 5300          |\n",
      "| policy_entropy     | 0.5334577     |\n",
      "| policy_loss        | -9.850296e-05 |\n",
      "| serial_timesteps   | 678400        |\n",
      "| time_elapsed       | 3.31e+04      |\n",
      "| total_timesteps    | 2713600       |\n",
      "| value_loss         | 69.34532      |\n",
      "--------------------------------------\n",
      "-------------------------------------\n",
      "| approxkl           | 0.0055832523 |\n",
      "| clipfrac           | 0.05810547   |\n",
      "| ep_len_mean        | 739          |\n",
      "| ep_reward_mean     | 124          |\n",
      "| explained_variance | 0.569        |\n",
      "| fps                | 83           |\n",
      "| n_updates          | 5400         |\n",
      "| policy_entropy     | 0.48215115   |\n",
      "| policy_loss        | -0.003323588 |\n",
      "| serial_timesteps   | 691200       |\n",
      "| time_elapsed       | 3.38e+04     |\n",
      "| total_timesteps    | 2764800      |\n",
      "| value_loss         | 46.73085     |\n",
      "-------------------------------------\n",
      "-------------------------------------\n",
      "| approxkl           | 0.01009598   |\n",
      "| clipfrac           | 0.13232422   |\n",
      "| ep_len_mean        | 825          |\n",
      "| ep_reward_mean     | 146          |\n",
      "| explained_variance | 0.311        |\n",
      "| fps                | 85           |\n",
      "| n_updates          | 5500         |\n",
      "| policy_entropy     | 0.7294268    |\n",
      "| policy_loss        | -0.008213369 |\n",
      "| serial_timesteps   | 704000       |\n",
      "| time_elapsed       | 3.44e+04     |\n",
      "| total_timesteps    | 2816000      |\n",
      "| value_loss         | 20.87032     |\n",
      "-------------------------------------\n",
      "------------------------------------\n",
      "| approxkl           | 0.011374427 |\n",
      "| clipfrac           | 0.09716797  |\n",
      "| ep_len_mean        | 898         |\n",
      "| ep_reward_mean     | 148         |\n",
      "| explained_variance | 0.783       |\n",
      "| fps                | 84          |\n",
      "| n_updates          | 5600        |\n",
      "| policy_entropy     | 0.7863475   |\n",
      "| policy_loss        | 0.001191743 |\n",
      "| serial_timesteps   | 716800      |\n",
      "| time_elapsed       | 3.5e+04     |\n",
      "| total_timesteps    | 2867200     |\n",
      "| value_loss         | 21.184496   |\n",
      "------------------------------------\n",
      "-------------------------------------\n",
      "| approxkl           | 0.0034646105 |\n",
      "| clipfrac           | 0.041503906  |\n",
      "| ep_len_mean        | 874          |\n",
      "| ep_reward_mean     | 153          |\n",
      "| explained_variance | 0.623        |\n",
      "| fps                | 81           |\n",
      "| n_updates          | 5700         |\n",
      "| policy_entropy     | 0.4397649    |\n",
      "| policy_loss        | -0.001372035 |\n",
      "| serial_timesteps   | 729600       |\n",
      "| time_elapsed       | 3.57e+04     |\n",
      "| total_timesteps    | 2918400      |\n",
      "| value_loss         | 41.555157    |\n",
      "-------------------------------------\n",
      "-------------------------------------\n",
      "| approxkl           | 0.004526892  |\n",
      "| clipfrac           | 0.05419922   |\n",
      "| ep_len_mean        | 827          |\n",
      "| ep_reward_mean     | 149          |\n",
      "| explained_variance | 0.56         |\n",
      "| fps                | 84           |\n",
      "| n_updates          | 5800         |\n",
      "| policy_entropy     | 0.34885645   |\n",
      "| policy_loss        | -0.004873143 |\n",
      "| serial_timesteps   | 742400       |\n",
      "| time_elapsed       | 3.63e+04     |\n",
      "| total_timesteps    | 2969600      |\n",
      "| value_loss         | 15.817554    |\n",
      "-------------------------------------\n",
      "-------------------------------------\n",
      "| approxkl           | 0.008032556  |\n",
      "| clipfrac           | 0.107910156  |\n",
      "| ep_len_mean        | 784          |\n",
      "| ep_reward_mean     | 151          |\n",
      "| explained_variance | 0.124        |\n",
      "| fps                | 86           |\n",
      "| n_updates          | 5900         |\n",
      "| policy_entropy     | 0.5903998    |\n",
      "| policy_loss        | -0.005373602 |\n",
      "| serial_timesteps   | 755200       |\n",
      "| time_elapsed       | 3.7e+04      |\n",
      "| total_timesteps    | 3020800      |\n",
      "| value_loss         | 64.8938      |\n",
      "-------------------------------------\n"
     ]
    },
    {
     "name": "stdout",
     "output_type": "stream",
     "text": [
      "--------------------------------------\n",
      "| approxkl           | 0.006166261   |\n",
      "| clipfrac           | 0.087402344   |\n",
      "| ep_len_mean        | 836           |\n",
      "| ep_reward_mean     | 149           |\n",
      "| explained_variance | 0.647         |\n",
      "| fps                | 88            |\n",
      "| n_updates          | 6000          |\n",
      "| policy_entropy     | 0.5455546     |\n",
      "| policy_loss        | 0.00021869713 |\n",
      "| serial_timesteps   | 768000        |\n",
      "| time_elapsed       | 3.76e+04      |\n",
      "| total_timesteps    | 3072000       |\n",
      "| value_loss         | 25.266825     |\n",
      "--------------------------------------\n",
      "------------------------------------\n",
      "| approxkl           | 0.007923445 |\n",
      "| clipfrac           | 0.092285156 |\n",
      "| ep_len_mean        | 831         |\n",
      "| ep_reward_mean     | 150         |\n",
      "| explained_variance | 0.834       |\n",
      "| fps                | 85          |\n",
      "| n_updates          | 6100        |\n",
      "| policy_entropy     | 0.6249434   |\n",
      "| policy_loss        | -0.01039305 |\n",
      "| serial_timesteps   | 780800      |\n",
      "| time_elapsed       | 3.82e+04    |\n",
      "| total_timesteps    | 3123200     |\n",
      "| value_loss         | 8.612089    |\n",
      "------------------------------------\n",
      "-------------------------------------\n",
      "| approxkl           | 0.004544926  |\n",
      "| clipfrac           | 0.05078125   |\n",
      "| ep_len_mean        | 848          |\n",
      "| ep_reward_mean     | 127          |\n",
      "| explained_variance | 0.686        |\n",
      "| fps                | 85           |\n",
      "| n_updates          | 6200         |\n",
      "| policy_entropy     | 0.62218314   |\n",
      "| policy_loss        | -0.005061727 |\n",
      "| serial_timesteps   | 793600       |\n",
      "| time_elapsed       | 3.88e+04     |\n",
      "| total_timesteps    | 3174400      |\n",
      "| value_loss         | 32.57163     |\n",
      "-------------------------------------\n",
      "--------------------------------------\n",
      "| approxkl           | 0.00673112    |\n",
      "| clipfrac           | 0.0703125     |\n",
      "| ep_len_mean        | 893           |\n",
      "| ep_reward_mean     | 123           |\n",
      "| explained_variance | 0.804         |\n",
      "| fps                | 86            |\n",
      "| n_updates          | 6300          |\n",
      "| policy_entropy     | 0.64060265    |\n",
      "| policy_loss        | -0.0077104517 |\n",
      "| serial_timesteps   | 806400        |\n",
      "| time_elapsed       | 3.95e+04      |\n",
      "| total_timesteps    | 3225600       |\n",
      "| value_loss         | 14.864019     |\n",
      "--------------------------------------\n",
      "-------------------------------------\n",
      "| approxkl           | 0.0044544195 |\n",
      "| clipfrac           | 0.05810547   |\n",
      "| ep_len_mean        | 899          |\n",
      "| ep_reward_mean     | 145          |\n",
      "| explained_variance | 0.418        |\n",
      "| fps                | 78           |\n",
      "| n_updates          | 6400         |\n",
      "| policy_entropy     | 0.5266793    |\n",
      "| policy_loss        | -0.011864204 |\n",
      "| serial_timesteps   | 819200       |\n",
      "| time_elapsed       | 4.01e+04     |\n",
      "| total_timesteps    | 3276800      |\n",
      "| value_loss         | 37.499535    |\n",
      "-------------------------------------\n",
      "--------------------------------------\n",
      "| approxkl           | 0.008241929   |\n",
      "| clipfrac           | 0.10888672    |\n",
      "| ep_len_mean        | 929           |\n",
      "| ep_reward_mean     | 138           |\n",
      "| explained_variance | 0.744         |\n",
      "| fps                | 73            |\n",
      "| n_updates          | 6500          |\n",
      "| policy_entropy     | 0.5804485     |\n",
      "| policy_loss        | -0.0037996264 |\n",
      "| serial_timesteps   | 832000        |\n",
      "| time_elapsed       | 4.07e+04      |\n",
      "| total_timesteps    | 3328000       |\n",
      "| value_loss         | 88.1445       |\n",
      "--------------------------------------\n",
      "------------------------------------\n",
      "| approxkl           | 0.004681894 |\n",
      "| clipfrac           | 0.0546875   |\n",
      "| ep_len_mean        | 861         |\n",
      "| ep_reward_mean     | 132         |\n",
      "| explained_variance | 0.646       |\n",
      "| fps                | 76          |\n",
      "| n_updates          | 6600        |\n",
      "| policy_entropy     | 0.37647521  |\n",
      "| policy_loss        | -0.00829251 |\n",
      "| serial_timesteps   | 844800      |\n",
      "| time_elapsed       | 4.14e+04    |\n",
      "| total_timesteps    | 3379200     |\n",
      "| value_loss         | 78.938      |\n",
      "------------------------------------\n",
      "-------------------------------------\n",
      "| approxkl           | 0.005044828  |\n",
      "| clipfrac           | 0.059570312  |\n",
      "| ep_len_mean        | 812          |\n",
      "| ep_reward_mean     | 130          |\n",
      "| explained_variance | 0.69         |\n",
      "| fps                | 80           |\n",
      "| n_updates          | 6700         |\n",
      "| policy_entropy     | 0.4285244    |\n",
      "| policy_loss        | -0.008358909 |\n",
      "| serial_timesteps   | 857600       |\n",
      "| time_elapsed       | 4.2e+04      |\n",
      "| total_timesteps    | 3430400      |\n",
      "| value_loss         | 73.91525     |\n",
      "-------------------------------------\n",
      "--------------------------------------\n",
      "| approxkl           | 0.0018478966  |\n",
      "| clipfrac           | 0.014160156   |\n",
      "| ep_len_mean        | 809           |\n",
      "| ep_reward_mean     | 138           |\n",
      "| explained_variance | 0.466         |\n",
      "| fps                | 89            |\n",
      "| n_updates          | 6800          |\n",
      "| policy_entropy     | 0.32134786    |\n",
      "| policy_loss        | -0.0028351704 |\n",
      "| serial_timesteps   | 870400        |\n",
      "| time_elapsed       | 4.26e+04      |\n",
      "| total_timesteps    | 3481600       |\n",
      "| value_loss         | 21.40624      |\n",
      "--------------------------------------\n",
      "--------------------------------------\n",
      "| approxkl           | 0.0056968005  |\n",
      "| clipfrac           | 0.052246094   |\n",
      "| ep_len_mean        | 806           |\n",
      "| ep_reward_mean     | 134           |\n",
      "| explained_variance | 0.117         |\n",
      "| fps                | 76            |\n",
      "| n_updates          | 6900          |\n",
      "| policy_entropy     | 0.36685905    |\n",
      "| policy_loss        | -0.0038973507 |\n",
      "| serial_timesteps   | 883200        |\n",
      "| time_elapsed       | 4.32e+04      |\n",
      "| total_timesteps    | 3532800       |\n",
      "| value_loss         | 12.87404      |\n",
      "--------------------------------------\n",
      "-------------------------------------\n",
      "| approxkl           | 0.0028446566 |\n",
      "| clipfrac           | 0.03515625   |\n",
      "| ep_len_mean        | 811          |\n",
      "| ep_reward_mean     | 135          |\n",
      "| explained_variance | 0.0624       |\n",
      "| fps                | 74           |\n",
      "| n_updates          | 7000         |\n",
      "| policy_entropy     | 0.34814405   |\n",
      "| policy_loss        | -0.003706199 |\n",
      "| serial_timesteps   | 896000       |\n",
      "| time_elapsed       | 4.39e+04     |\n",
      "| total_timesteps    | 3584000      |\n",
      "| value_loss         | 52.488995    |\n",
      "-------------------------------------\n",
      "-------------------------------------\n",
      "| approxkl           | 0.0056097563 |\n",
      "| clipfrac           | 0.05810547   |\n",
      "| ep_len_mean        | 790          |\n",
      "| ep_reward_mean     | 155          |\n",
      "| explained_variance | 0.724        |\n",
      "| fps                | 86           |\n",
      "| n_updates          | 7100         |\n",
      "| policy_entropy     | 0.50630456   |\n",
      "| policy_loss        | -0.007875506 |\n",
      "| serial_timesteps   | 908800       |\n",
      "| time_elapsed       | 4.45e+04     |\n",
      "| total_timesteps    | 3635200      |\n",
      "| value_loss         | 0.8376485    |\n",
      "-------------------------------------\n",
      "-------------------------------------\n",
      "| approxkl           | 0.0050749965 |\n",
      "| clipfrac           | 0.03515625   |\n",
      "| ep_len_mean        | 819          |\n",
      "| ep_reward_mean     | 166          |\n",
      "| explained_variance | 0.437        |\n",
      "| fps                | 80           |\n",
      "| n_updates          | 7200         |\n",
      "| policy_entropy     | 0.50533795   |\n",
      "| policy_loss        | -0.003504173 |\n",
      "| serial_timesteps   | 921600       |\n",
      "| time_elapsed       | 4.52e+04     |\n",
      "| total_timesteps    | 3686400      |\n",
      "| value_loss         | 66.996475    |\n",
      "-------------------------------------\n",
      "-------------------------------------\n",
      "| approxkl           | 0.0052589057 |\n",
      "| clipfrac           | 0.056152344  |\n",
      "| ep_len_mean        | 789          |\n",
      "| ep_reward_mean     | 164          |\n",
      "| explained_variance | 0.88         |\n",
      "| fps                | 87           |\n",
      "| n_updates          | 7300         |\n",
      "| policy_entropy     | 0.5485791    |\n",
      "| policy_loss        | -0.012016235 |\n",
      "| serial_timesteps   | 934400       |\n",
      "| time_elapsed       | 4.58e+04     |\n",
      "| total_timesteps    | 3737600      |\n",
      "| value_loss         | 12.558399    |\n",
      "-------------------------------------\n",
      "--------------------------------------\n",
      "| approxkl           | 0.0047375276  |\n",
      "| clipfrac           | 0.053222656   |\n",
      "| ep_len_mean        | 838           |\n",
      "| ep_reward_mean     | 169           |\n",
      "| explained_variance | 0.713         |\n",
      "| fps                | 81            |\n",
      "| n_updates          | 7400          |\n",
      "| policy_entropy     | 0.5504567     |\n",
      "| policy_loss        | -0.0025858525 |\n",
      "| serial_timesteps   | 947200        |\n",
      "| time_elapsed       | 4.64e+04      |\n",
      "| total_timesteps    | 3788800       |\n",
      "| value_loss         | 26.64069      |\n",
      "--------------------------------------\n"
     ]
    },
    {
     "name": "stdout",
     "output_type": "stream",
     "text": [
      "--------------------------------------\n",
      "| approxkl           | 0.0039464696  |\n",
      "| clipfrac           | 0.052734375   |\n",
      "| ep_len_mean        | 816           |\n",
      "| ep_reward_mean     | 143           |\n",
      "| explained_variance | 0.685         |\n",
      "| fps                | 71            |\n",
      "| n_updates          | 7500          |\n",
      "| policy_entropy     | 0.69118667    |\n",
      "| policy_loss        | -0.0022888347 |\n",
      "| serial_timesteps   | 960000        |\n",
      "| time_elapsed       | 4.71e+04      |\n",
      "| total_timesteps    | 3840000       |\n",
      "| value_loss         | 76.38838      |\n",
      "--------------------------------------\n",
      "-------------------------------------\n",
      "| approxkl           | 0.0040715868 |\n",
      "| clipfrac           | 0.04736328   |\n",
      "| ep_len_mean        | 890          |\n",
      "| ep_reward_mean     | 153          |\n",
      "| explained_variance | 0.742        |\n",
      "| fps                | 88           |\n",
      "| n_updates          | 7600         |\n",
      "| policy_entropy     | 0.6715275    |\n",
      "| policy_loss        | -0.011488377 |\n",
      "| serial_timesteps   | 972800       |\n",
      "| time_elapsed       | 4.77e+04     |\n",
      "| total_timesteps    | 3891200      |\n",
      "| value_loss         | 33.740376    |\n",
      "-------------------------------------\n",
      "-------------------------------------\n",
      "| approxkl           | 0.0025661918 |\n",
      "| clipfrac           | 0.026855469  |\n",
      "| ep_len_mean        | 832          |\n",
      "| ep_reward_mean     | 139          |\n",
      "| explained_variance | 0.689        |\n",
      "| fps                | 84           |\n",
      "| n_updates          | 7700         |\n",
      "| policy_entropy     | 0.54174995   |\n",
      "| policy_loss        | -0.008240459 |\n",
      "| serial_timesteps   | 985600       |\n",
      "| time_elapsed       | 4.83e+04     |\n",
      "| total_timesteps    | 3942400      |\n",
      "| value_loss         | 19.35705     |\n",
      "-------------------------------------\n",
      "-------------------------------------\n",
      "| approxkl           | 0.0052194516 |\n",
      "| clipfrac           | 0.052246094  |\n",
      "| ep_len_mean        | 725          |\n",
      "| ep_reward_mean     | 105          |\n",
      "| explained_variance | 0.229        |\n",
      "| fps                | 77           |\n",
      "| n_updates          | 7800         |\n",
      "| policy_entropy     | 0.49610883   |\n",
      "| policy_loss        | -0.008188492 |\n",
      "| serial_timesteps   | 998400       |\n",
      "| time_elapsed       | 4.89e+04     |\n",
      "| total_timesteps    | 3993600      |\n",
      "| value_loss         | 4.6420712    |\n",
      "-------------------------------------\n",
      "--------------------------------------\n",
      "| approxkl           | 0.005569056   |\n",
      "| clipfrac           | 0.07519531    |\n",
      "| ep_len_mean        | 755           |\n",
      "| ep_reward_mean     | 126           |\n",
      "| explained_variance | 0.715         |\n",
      "| fps                | 77            |\n",
      "| n_updates          | 7900          |\n",
      "| policy_entropy     | 0.6787878     |\n",
      "| policy_loss        | -0.0013137086 |\n",
      "| serial_timesteps   | 1011200       |\n",
      "| time_elapsed       | 4.96e+04      |\n",
      "| total_timesteps    | 4044800       |\n",
      "| value_loss         | 90.97196      |\n",
      "--------------------------------------\n",
      "-------------------------------------\n",
      "| approxkl           | 0.0036320298 |\n",
      "| clipfrac           | 0.04248047   |\n",
      "| ep_len_mean        | 797          |\n",
      "| ep_reward_mean     | 145          |\n",
      "| explained_variance | 0.188        |\n",
      "| fps                | 73           |\n",
      "| n_updates          | 8000         |\n",
      "| policy_entropy     | 0.5155244    |\n",
      "| policy_loss        | -0.005624    |\n",
      "| serial_timesteps   | 1024000      |\n",
      "| time_elapsed       | 5.02e+04     |\n",
      "| total_timesteps    | 4096000      |\n",
      "| value_loss         | 10.7422695   |\n",
      "-------------------------------------\n",
      "-------------------------------------\n",
      "| approxkl           | 0.0066690957 |\n",
      "| clipfrac           | 0.09423828   |\n",
      "| ep_len_mean        | 778          |\n",
      "| ep_reward_mean     | 153          |\n",
      "| explained_variance | 0.352        |\n",
      "| fps                | 86           |\n",
      "| n_updates          | 8100         |\n",
      "| policy_entropy     | 0.60219777   |\n",
      "| policy_loss        | -0.001496427 |\n",
      "| serial_timesteps   | 1036800      |\n",
      "| time_elapsed       | 5.08e+04     |\n",
      "| total_timesteps    | 4147200      |\n",
      "| value_loss         | 36.527287    |\n",
      "-------------------------------------\n",
      "--------------------------------------\n",
      "| approxkl           | 0.0049106902  |\n",
      "| clipfrac           | 0.05419922    |\n",
      "| ep_len_mean        | 774           |\n",
      "| ep_reward_mean     | 110           |\n",
      "| explained_variance | 0.673         |\n",
      "| fps                | 84            |\n",
      "| n_updates          | 8200          |\n",
      "| policy_entropy     | 0.49118003    |\n",
      "| policy_loss        | -0.0069805477 |\n",
      "| serial_timesteps   | 1049600       |\n",
      "| time_elapsed       | 5.15e+04      |\n",
      "| total_timesteps    | 4198400       |\n",
      "| value_loss         | 16.543537     |\n",
      "--------------------------------------\n",
      "-------------------------------------\n",
      "| approxkl           | 0.02767354   |\n",
      "| clipfrac           | 0.123046875  |\n",
      "| ep_len_mean        | 822          |\n",
      "| ep_reward_mean     | 109          |\n",
      "| explained_variance | 0.459        |\n",
      "| fps                | 78           |\n",
      "| n_updates          | 8300         |\n",
      "| policy_entropy     | 0.44120002   |\n",
      "| policy_loss        | 0.0058805873 |\n",
      "| serial_timesteps   | 1062400      |\n",
      "| time_elapsed       | 5.21e+04     |\n",
      "| total_timesteps    | 4249600      |\n",
      "| value_loss         | 109.68412    |\n",
      "-------------------------------------\n",
      "--------------------------------------\n",
      "| approxkl           | 0.0054517547  |\n",
      "| clipfrac           | 0.060058594   |\n",
      "| ep_len_mean        | 867           |\n",
      "| ep_reward_mean     | 111           |\n",
      "| explained_variance | 0.723         |\n",
      "| fps                | 86            |\n",
      "| n_updates          | 8400          |\n",
      "| policy_entropy     | 0.43912238    |\n",
      "| policy_loss        | -0.0018839521 |\n",
      "| serial_timesteps   | 1075200       |\n",
      "| time_elapsed       | 5.27e+04      |\n",
      "| total_timesteps    | 4300800       |\n",
      "| value_loss         | 20.451828     |\n",
      "--------------------------------------\n",
      "-------------------------------------\n",
      "| approxkl           | 0.0044618994 |\n",
      "| clipfrac           | 0.05029297   |\n",
      "| ep_len_mean        | 859          |\n",
      "| ep_reward_mean     | 146          |\n",
      "| explained_variance | 0.859        |\n",
      "| fps                | 85           |\n",
      "| n_updates          | 8500         |\n",
      "| policy_entropy     | 0.57048094   |\n",
      "| policy_loss        | -0.005367403 |\n",
      "| serial_timesteps   | 1088000      |\n",
      "| time_elapsed       | 5.33e+04     |\n",
      "| total_timesteps    | 4352000      |\n",
      "| value_loss         | 11.789374    |\n",
      "-------------------------------------\n",
      "-------------------------------------\n",
      "| approxkl           | 0.017625056  |\n",
      "| clipfrac           | 0.11621094   |\n",
      "| ep_len_mean        | 860          |\n",
      "| ep_reward_mean     | 170          |\n",
      "| explained_variance | 0.466        |\n",
      "| fps                | 74           |\n",
      "| n_updates          | 8600         |\n",
      "| policy_entropy     | 0.664901     |\n",
      "| policy_loss        | 0.0020020516 |\n",
      "| serial_timesteps   | 1100800      |\n",
      "| time_elapsed       | 5.4e+04      |\n",
      "| total_timesteps    | 4403200      |\n",
      "| value_loss         | 113.86855    |\n",
      "-------------------------------------\n",
      "-------------------------------------\n",
      "| approxkl           | 0.0039382735 |\n",
      "| clipfrac           | 0.0390625    |\n",
      "| ep_len_mean        | 775          |\n",
      "| ep_reward_mean     | 157          |\n",
      "| explained_variance | 0.497        |\n",
      "| fps                | 79           |\n",
      "| n_updates          | 8700         |\n",
      "| policy_entropy     | 0.3922777    |\n",
      "| policy_loss        | -0.007693161 |\n",
      "| serial_timesteps   | 1113600      |\n",
      "| time_elapsed       | 5.46e+04     |\n",
      "| total_timesteps    | 4454400      |\n",
      "| value_loss         | 22.94962     |\n",
      "-------------------------------------\n",
      "-------------------------------------\n",
      "| approxkl           | 0.002720685  |\n",
      "| clipfrac           | 0.027832031  |\n",
      "| ep_len_mean        | 731          |\n",
      "| ep_reward_mean     | 133          |\n",
      "| explained_variance | 0.495        |\n",
      "| fps                | 88           |\n",
      "| n_updates          | 8800         |\n",
      "| policy_entropy     | 0.6289609    |\n",
      "| policy_loss        | -0.009113625 |\n",
      "| serial_timesteps   | 1126400      |\n",
      "| time_elapsed       | 5.52e+04     |\n",
      "| total_timesteps    | 4505600      |\n",
      "| value_loss         | 22.196321    |\n",
      "-------------------------------------\n",
      "--------------------------------------\n",
      "| approxkl           | 0.0073057357  |\n",
      "| clipfrac           | 0.07324219    |\n",
      "| ep_len_mean        | 760           |\n",
      "| ep_reward_mean     | 166           |\n",
      "| explained_variance | 0.551         |\n",
      "| fps                | 80            |\n",
      "| n_updates          | 8900          |\n",
      "| policy_entropy     | 0.410553      |\n",
      "| policy_loss        | -0.0020291046 |\n",
      "| serial_timesteps   | 1139200       |\n",
      "| time_elapsed       | 5.58e+04      |\n",
      "| total_timesteps    | 4556800       |\n",
      "| value_loss         | 19.912935     |\n",
      "--------------------------------------\n"
     ]
    },
    {
     "name": "stdout",
     "output_type": "stream",
     "text": [
      "-------------------------------------\n",
      "| approxkl           | 0.0044385414 |\n",
      "| clipfrac           | 0.0546875    |\n",
      "| ep_len_mean        | 799          |\n",
      "| ep_reward_mean     | 159          |\n",
      "| explained_variance | 0.255        |\n",
      "| fps                | 76           |\n",
      "| n_updates          | 9000         |\n",
      "| policy_entropy     | 0.59396213   |\n",
      "| policy_loss        | -0.007685321 |\n",
      "| serial_timesteps   | 1152000      |\n",
      "| time_elapsed       | 5.65e+04     |\n",
      "| total_timesteps    | 4608000      |\n",
      "| value_loss         | 6.30007      |\n",
      "-------------------------------------\n",
      "-------------------------------------\n",
      "| approxkl           | 0.0070681768 |\n",
      "| clipfrac           | 0.08642578   |\n",
      "| ep_len_mean        | 820          |\n",
      "| ep_reward_mean     | 175          |\n",
      "| explained_variance | 0.832        |\n",
      "| fps                | 87           |\n",
      "| n_updates          | 9100         |\n",
      "| policy_entropy     | 0.65974665   |\n",
      "| policy_loss        | -0.008000364 |\n",
      "| serial_timesteps   | 1164800      |\n",
      "| time_elapsed       | 5.71e+04     |\n",
      "| total_timesteps    | 4659200      |\n",
      "| value_loss         | 4.9617877    |\n",
      "-------------------------------------\n",
      "-------------------------------------\n",
      "| approxkl           | 0.009490595  |\n",
      "| clipfrac           | 0.10546875   |\n",
      "| ep_len_mean        | 772          |\n",
      "| ep_reward_mean     | 169          |\n",
      "| explained_variance | 0.676        |\n",
      "| fps                | 89           |\n",
      "| n_updates          | 9200         |\n",
      "| policy_entropy     | 0.41160366   |\n",
      "| policy_loss        | -0.010937393 |\n",
      "| serial_timesteps   | 1177600      |\n",
      "| time_elapsed       | 5.77e+04     |\n",
      "| total_timesteps    | 4710400      |\n",
      "| value_loss         | 13.291588    |\n",
      "-------------------------------------\n",
      "--------------------------------------\n",
      "| approxkl           | 0.0045128027  |\n",
      "| clipfrac           | 0.0546875     |\n",
      "| ep_len_mean        | 764           |\n",
      "| ep_reward_mean     | 170           |\n",
      "| explained_variance | 0.441         |\n",
      "| fps                | 84            |\n",
      "| n_updates          | 9300          |\n",
      "| policy_entropy     | 0.4166833     |\n",
      "| policy_loss        | -0.0050969874 |\n",
      "| serial_timesteps   | 1190400       |\n",
      "| time_elapsed       | 5.84e+04      |\n",
      "| total_timesteps    | 4761600       |\n",
      "| value_loss         | 30.63758      |\n",
      "--------------------------------------\n",
      "-------------------------------------\n",
      "| approxkl           | 0.008859463  |\n",
      "| clipfrac           | 0.104003906  |\n",
      "| ep_len_mean        | 725          |\n",
      "| ep_reward_mean     | 159          |\n",
      "| explained_variance | 0.156        |\n",
      "| fps                | 86           |\n",
      "| n_updates          | 9400         |\n",
      "| policy_entropy     | 0.7165865    |\n",
      "| policy_loss        | -0.011823492 |\n",
      "| serial_timesteps   | 1203200      |\n",
      "| time_elapsed       | 5.9e+04      |\n",
      "| total_timesteps    | 4812800      |\n",
      "| value_loss         | 43.605976    |\n",
      "-------------------------------------\n",
      "-------------------------------------\n",
      "| approxkl           | 0.009388086  |\n",
      "| clipfrac           | 0.08935547   |\n",
      "| ep_len_mean        | 731          |\n",
      "| ep_reward_mean     | 154          |\n",
      "| explained_variance | 0.575        |\n",
      "| fps                | 85           |\n",
      "| n_updates          | 9500         |\n",
      "| policy_entropy     | 0.5111611    |\n",
      "| policy_loss        | -0.009889665 |\n",
      "| serial_timesteps   | 1216000      |\n",
      "| time_elapsed       | 5.96e+04     |\n",
      "| total_timesteps    | 4864000      |\n",
      "| value_loss         | 10.516482    |\n",
      "-------------------------------------\n",
      "--------------------------------------\n",
      "| approxkl           | 0.010444758   |\n",
      "| clipfrac           | 0.046875      |\n",
      "| ep_len_mean        | 778           |\n",
      "| ep_reward_mean     | 145           |\n",
      "| explained_variance | 0.57          |\n",
      "| fps                | 75            |\n",
      "| n_updates          | 9600          |\n",
      "| policy_entropy     | 0.45128867    |\n",
      "| policy_loss        | -0.0030434153 |\n",
      "| serial_timesteps   | 1228800       |\n",
      "| time_elapsed       | 6.03e+04      |\n",
      "| total_timesteps    | 4915200       |\n",
      "| value_loss         | 36.87104      |\n",
      "--------------------------------------\n",
      "-------------------------------------\n",
      "| approxkl           | 0.0025525833 |\n",
      "| clipfrac           | 0.024902344  |\n",
      "| ep_len_mean        | 954          |\n",
      "| ep_reward_mean     | 183          |\n",
      "| explained_variance | 0.546        |\n",
      "| fps                | 80           |\n",
      "| n_updates          | 9700         |\n",
      "| policy_entropy     | 0.48964936   |\n",
      "| policy_loss        | -0.00759225  |\n",
      "| serial_timesteps   | 1241600      |\n",
      "| time_elapsed       | 6.09e+04     |\n",
      "| total_timesteps    | 4966400      |\n",
      "| value_loss         | 38.269222    |\n",
      "-------------------------------------\n"
     ]
    }
   ],
   "source": [
    "num = 1\n",
    "\n",
    "LOG_INTERVAL        = 100\n",
    "WANDB_ID            = \"\" + str(num)\n",
    "WNDB_NAME           = \"Antoine\" + str(num)\n",
    "LOAD_SAVED_MODEL    = False\n",
    "MODEL_SAVE_NAME     = \"PPO_MODEL_Obstacles\" + str(num)\n",
    "SAVED_MODEL_VERSION = \"latest\"\n",
    "\n",
    "os.environ[\"WANDB_ENTITY\"]  = \"ant_ai\"\n",
    "os.environ[\"WANDB_PROJECT\"] = \"PPO_With_Obstacles\"\n",
    "os.environ[\"WANDB_RESUME\"]  = \"allow\"\n",
    "wandb.init(resume=WANDB_ID)\n",
    "wandb.run.name = WNDB_NAME\n",
    "\n",
    "env = make_vec_env(env, n_envs=4)\n",
    "\n",
    "# Load model\n",
    "if LOAD_SAVED_MODEL:\n",
    "    try:\n",
    "        model_artifact = wandb.use_artifact(MODEL_SAVE_NAME+':'+SAVED_MODEL_VERSION, type='model')\n",
    "        artifact_dir = model_artifact.download()\n",
    "        PPOmodel = PPO2.load(artifact_dir+\"/\"+MODEL_SAVE_NAME, env=env)\n",
    "        print(\"LOAD SAVED PPΟ MODEL\")\n",
    "\n",
    "    except:\n",
    "        print(\"NO MODEL FOUND\")\n",
    "else:\n",
    "    if 'PPOmodel' not in globals():\n",
    "        PPOmodel = PPO2.load('artifacts/PPO_MODEL_1-v98/PPO_MODEL_1',env=env)\n",
    "        print(\"INITIALIZE NEW PPO MODEL\")\n",
    "    else:\n",
    "        PPOmodel = PPO2.load(MODEL_SAVE_NAME, env=env)\n",
    "        print(\"CONTINUE PPO MODEL TRAINING\")\n",
    "\n",
    "        # Train model\n",
    "PPOmodel.learn(total_timesteps=5000000, log_interval=LOG_INTERVAL, callback=PPOCustomCallback())\n",
    "PPOmodel.save(MODEL_SAVE_NAME)\n",
    "env.close()"
   ]
  },
  {
   "cell_type": "code",
   "execution_count": 7,
   "id": "550c9d58",
   "metadata": {},
   "outputs": [
    {
     "data": {
      "text/html": [
       "Waiting for W&B process to finish... <strong style=\"color:green\">(success).</strong>"
      ],
      "text/plain": [
       "<IPython.core.display.HTML object>"
      ]
     },
     "metadata": {},
     "output_type": "display_data"
    },
    {
     "data": {
      "text/html": [
       "<style>\n",
       "    table.wandb td:nth-child(1) { padding: 0 10px; text-align: left ; width: auto;} td:nth-child(2) {text-align: left ; width: 100%}\n",
       "    .wandb-row { display: flex; flex-direction: row; flex-wrap: wrap; justify-content: flex-start; width: 100% }\n",
       "    .wandb-col { display: flex; flex-direction: column; flex-basis: 100%; flex: 1; padding: 10px; }\n",
       "    </style>\n",
       "<div class=\"wandb-row\"><div class=\"wandb-col\"><h3>Run history:</h3><br/><table class=\"wandb\"><tr><td>reward_per_episode</td><td>▄▇▄▄▆▇▄▆▄▅▇▇▆▇▆▃▅▇▇▆▇▇▇▆▆█▆▁▂▆██▆▆█▅██▆▇</td></tr></table><br/></div><div class=\"wandb-col\"><h3>Run summary:</h3><br/><table class=\"wandb\"><tr><td>reward_per_episode</td><td>260.59921</td></tr></table><br/></div></div>"
      ],
      "text/plain": [
       "<IPython.core.display.HTML object>"
      ]
     },
     "metadata": {},
     "output_type": "display_data"
    },
    {
     "data": {
      "text/html": [
       " View run <strong style=\"color:#cdcd00\">1</strong> at: <a href='https://wandb.ai/ant_ai/PPO_With_Obstacles/runs/1' target=\"_blank\">https://wandb.ai/ant_ai/PPO_With_Obstacles/runs/1</a><br/>Synced 6 W&B file(s), 0 media file(s), 57 artifact file(s) and 0 other file(s)"
      ],
      "text/plain": [
       "<IPython.core.display.HTML object>"
      ]
     },
     "metadata": {},
     "output_type": "display_data"
    },
    {
     "data": {
      "text/html": [
       "Find logs at: <code>.\\wandb\\run-20230410_010712-1\\logs</code>"
      ],
      "text/plain": [
       "<IPython.core.display.HTML object>"
      ]
     },
     "metadata": {},
     "output_type": "display_data"
    }
   ],
   "source": [
    "wandb.finish()"
   ]
  },
  {
   "cell_type": "markdown",
   "id": "925a2629",
   "metadata": {},
   "source": [
    "## Evaluate model"
   ]
  },
  {
   "cell_type": "code",
   "execution_count": 5,
   "id": "b8a0e111",
   "metadata": {},
   "outputs": [],
   "source": [
    "env = lambda : CarRacing(\n",
    "        grayscale=1,\n",
    "        show_info_panel=0,\n",
    "        discretize_actions=\"hard\",\n",
    "        frames_per_state=4,\n",
    "        num_lanes=1,\n",
    "        num_lanes_changes=1,\n",
    "        num_tracks=2,\n",
    "        allow_reverse=False,\n",
    "        max_time_out=2,\n",
    "        verbose=0,\n",
    "        num_obstacles=10,\n",
    "        prop_good_obstacles=0.5)\n",
    "env = DummyVecEnv([env])"
   ]
  },
  {
   "cell_type": "code",
   "execution_count": 7,
   "id": "727be6b3",
   "metadata": {
    "scrolled": true
   },
   "outputs": [
    {
     "name": "stderr",
     "output_type": "stream",
     "text": [
      "  1%|▊                                                                                 | 1/100 [00:17<29:15, 17.73s/it]"
     ]
    },
    {
     "name": "stdout",
     "output_type": "stream",
     "text": [
      "Episode: 0, Total Reward: [228.20038]\n"
     ]
    },
    {
     "name": "stderr",
     "output_type": "stream",
     "text": [
      "\r",
      "  2%|█▋                                                                                | 2/100 [00:29<23:29, 14.38s/it]"
     ]
    },
    {
     "name": "stdout",
     "output_type": "stream",
     "text": [
      "Episode: 1, Total Reward: [116.59984]\n"
     ]
    },
    {
     "name": "stderr",
     "output_type": "stream",
     "text": [
      "\r",
      "  3%|██▍                                                                               | 3/100 [00:41<21:38, 13.38s/it]"
     ]
    },
    {
     "name": "stdout",
     "output_type": "stream",
     "text": [
      "Episode: 2, Total Reward: [84.299446]\n"
     ]
    },
    {
     "name": "stderr",
     "output_type": "stream",
     "text": [
      "\r",
      "  4%|███▎                                                                              | 4/100 [00:54<20:48, 13.00s/it]"
     ]
    },
    {
     "name": "stdout",
     "output_type": "stream",
     "text": [
      "Episode: 3, Total Reward: [-8.499313]\n"
     ]
    },
    {
     "name": "stderr",
     "output_type": "stream",
     "text": [
      "\r",
      "  5%|████                                                                              | 5/100 [01:28<32:44, 20.68s/it]"
     ]
    },
    {
     "name": "stdout",
     "output_type": "stream",
     "text": [
      "Episode: 4, Total Reward: [402.49255]\n"
     ]
    },
    {
     "name": "stderr",
     "output_type": "stream",
     "text": [
      "\r",
      "  6%|████▉                                                                             | 6/100 [01:47<31:34, 20.15s/it]"
     ]
    },
    {
     "name": "stdout",
     "output_type": "stream",
     "text": [
      "Episode: 5, Total Reward: [177.99765]\n"
     ]
    },
    {
     "name": "stderr",
     "output_type": "stream",
     "text": [
      "\r",
      "  7%|█████▋                                                                            | 7/100 [02:10<32:23, 20.90s/it]"
     ]
    },
    {
     "name": "stdout",
     "output_type": "stream",
     "text": [
      "Episode: 6, Total Reward: [411.7957]\n"
     ]
    },
    {
     "name": "stderr",
     "output_type": "stream",
     "text": [
      "\r",
      "  8%|██████▌                                                                           | 8/100 [02:27<30:29, 19.89s/it]"
     ]
    },
    {
     "name": "stdout",
     "output_type": "stream",
     "text": [
      "Episode: 7, Total Reward: [74.70051]\n"
     ]
    },
    {
     "name": "stderr",
     "output_type": "stream",
     "text": [
      "\r",
      "  9%|███████▍                                                                          | 9/100 [02:42<27:44, 18.29s/it]"
     ]
    },
    {
     "name": "stdout",
     "output_type": "stream",
     "text": [
      "Episode: 8, Total Reward: [265.4976]\n"
     ]
    },
    {
     "name": "stderr",
     "output_type": "stream",
     "text": [
      "\r",
      " 10%|████████                                                                         | 10/100 [03:00<27:05, 18.06s/it]"
     ]
    },
    {
     "name": "stdout",
     "output_type": "stream",
     "text": [
      "Episode: 9, Total Reward: [210.49835]\n"
     ]
    },
    {
     "name": "stderr",
     "output_type": "stream",
     "text": [
      "\r",
      " 11%|████████▉                                                                        | 11/100 [03:17<26:29, 17.86s/it]"
     ]
    },
    {
     "name": "stdout",
     "output_type": "stream",
     "text": [
      "Episode: 10, Total Reward: [366.19763]\n"
     ]
    },
    {
     "name": "stderr",
     "output_type": "stream",
     "text": [
      "\r",
      " 12%|█████████▋                                                                       | 12/100 [03:20<19:16, 13.14s/it]"
     ]
    },
    {
     "name": "stdout",
     "output_type": "stream",
     "text": [
      "Episode: 11, Total Reward: [-55.699883]\n"
     ]
    },
    {
     "name": "stderr",
     "output_type": "stream",
     "text": [
      "\r",
      " 13%|██████████▌                                                                      | 13/100 [03:34<19:37, 13.53s/it]"
     ]
    },
    {
     "name": "stdout",
     "output_type": "stream",
     "text": [
      "Episode: 12, Total Reward: [266.0986]\n"
     ]
    },
    {
     "name": "stderr",
     "output_type": "stream",
     "text": [
      "\r",
      " 14%|███████████▎                                                                     | 14/100 [03:43<17:18, 12.07s/it]"
     ]
    },
    {
     "name": "stdout",
     "output_type": "stream",
     "text": [
      "Episode: 13, Total Reward: [8.600517]\n"
     ]
    },
    {
     "name": "stderr",
     "output_type": "stream",
     "text": [
      "\r",
      " 15%|████████████▏                                                                    | 15/100 [03:57<18:01, 12.72s/it]"
     ]
    },
    {
     "name": "stdout",
     "output_type": "stream",
     "text": [
      "Episode: 14, Total Reward: [212.49863]\n"
     ]
    },
    {
     "name": "stderr",
     "output_type": "stream",
     "text": [
      "\r",
      " 16%|████████████▉                                                                    | 16/100 [04:15<19:53, 14.21s/it]"
     ]
    },
    {
     "name": "stdout",
     "output_type": "stream",
     "text": [
      "Episode: 15, Total Reward: [282.2976]\n"
     ]
    },
    {
     "name": "stderr",
     "output_type": "stream",
     "text": [
      "\r",
      " 17%|█████████████▊                                                                   | 17/100 [04:27<18:50, 13.62s/it]"
     ]
    },
    {
     "name": "stdout",
     "output_type": "stream",
     "text": [
      "Episode: 16, Total Reward: [231.79892]\n"
     ]
    },
    {
     "name": "stderr",
     "output_type": "stream",
     "text": [
      "\r",
      " 18%|██████████████▌                                                                  | 18/100 [04:42<19:23, 14.19s/it]"
     ]
    },
    {
     "name": "stdout",
     "output_type": "stream",
     "text": [
      "Episode: 17, Total Reward: [165.39749]\n"
     ]
    },
    {
     "name": "stderr",
     "output_type": "stream",
     "text": [
      "\r",
      " 19%|███████████████▍                                                                 | 19/100 [05:02<21:25, 15.87s/it]"
     ]
    },
    {
     "name": "stdout",
     "output_type": "stream",
     "text": [
      "Episode: 18, Total Reward: [296.49835]\n"
     ]
    },
    {
     "name": "stderr",
     "output_type": "stream",
     "text": [
      "\r",
      " 20%|████████████████▏                                                                | 20/100 [05:21<22:28, 16.86s/it]"
     ]
    },
    {
     "name": "stdout",
     "output_type": "stream",
     "text": [
      "Episode: 19, Total Reward: [258.29697]\n"
     ]
    },
    {
     "name": "stderr",
     "output_type": "stream",
     "text": [
      "\r",
      " 21%|█████████████████                                                                | 21/100 [05:50<26:53, 20.43s/it]"
     ]
    },
    {
     "name": "stdout",
     "output_type": "stream",
     "text": [
      "Episode: 20, Total Reward: [172.1991]\n"
     ]
    },
    {
     "name": "stderr",
     "output_type": "stream",
     "text": [
      "\r",
      " 22%|█████████████████▊                                                               | 22/100 [06:03<23:38, 18.18s/it]"
     ]
    },
    {
     "name": "stdout",
     "output_type": "stream",
     "text": [
      "Episode: 21, Total Reward: [370.6972]\n"
     ]
    },
    {
     "name": "stderr",
     "output_type": "stream",
     "text": [
      "\r",
      " 23%|██████████████████▋                                                              | 23/100 [06:06<17:19, 13.50s/it]"
     ]
    },
    {
     "name": "stdout",
     "output_type": "stream",
     "text": [
      "Episode: 22, Total Reward: [-105.7]\n"
     ]
    },
    {
     "name": "stderr",
     "output_type": "stream",
     "text": [
      "\r",
      " 24%|███████████████████▍                                                             | 24/100 [06:25<19:22, 15.29s/it]"
     ]
    },
    {
     "name": "stdout",
     "output_type": "stream",
     "text": [
      "Episode: 23, Total Reward: [476.5951]\n"
     ]
    },
    {
     "name": "stderr",
     "output_type": "stream",
     "text": [
      "\r",
      " 25%|████████████████████▎                                                            | 25/100 [06:59<26:02, 20.83s/it]"
     ]
    },
    {
     "name": "stdout",
     "output_type": "stream",
     "text": [
      "Episode: 24, Total Reward: [-33.69881]\n"
     ]
    },
    {
     "name": "stderr",
     "output_type": "stream",
     "text": [
      "\r",
      " 26%|█████████████████████                                                            | 26/100 [07:23<27:01, 21.91s/it]"
     ]
    },
    {
     "name": "stdout",
     "output_type": "stream",
     "text": [
      "Episode: 25, Total Reward: [186.70084]\n"
     ]
    },
    {
     "name": "stderr",
     "output_type": "stream",
     "text": [
      "\r",
      " 27%|█████████████████████▊                                                           | 27/100 [07:30<21:04, 17.32s/it]"
     ]
    },
    {
     "name": "stdout",
     "output_type": "stream",
     "text": [
      "Episode: 26, Total Reward: [-117.000015]\n"
     ]
    },
    {
     "name": "stderr",
     "output_type": "stream",
     "text": [
      "\r",
      " 28%|██████████████████████▋                                                          | 28/100 [07:42<18:48, 15.68s/it]"
     ]
    },
    {
     "name": "stdout",
     "output_type": "stream",
     "text": [
      "Episode: 27, Total Reward: [195.49985]\n"
     ]
    },
    {
     "name": "stderr",
     "output_type": "stream",
     "text": [
      "\r",
      " 29%|███████████████████████▍                                                         | 29/100 [08:03<20:29, 17.32s/it]"
     ]
    },
    {
     "name": "stdout",
     "output_type": "stream",
     "text": [
      "Episode: 28, Total Reward: [326.69632]\n"
     ]
    },
    {
     "name": "stderr",
     "output_type": "stream",
     "text": [
      "\r",
      " 30%|████████████████████████▎                                                        | 30/100 [08:15<18:27, 15.82s/it]"
     ]
    },
    {
     "name": "stdout",
     "output_type": "stream",
     "text": [
      "Episode: 29, Total Reward: [258.19937]\n"
     ]
    },
    {
     "name": "stderr",
     "output_type": "stream",
     "text": [
      "\r",
      " 31%|█████████████████████████                                                        | 31/100 [08:31<18:15, 15.88s/it]"
     ]
    },
    {
     "name": "stdout",
     "output_type": "stream",
     "text": [
      "Episode: 30, Total Reward: [277.49796]\n"
     ]
    },
    {
     "name": "stderr",
     "output_type": "stream",
     "text": [
      "\r",
      " 32%|█████████████████████████▉                                                       | 32/100 [08:43<16:34, 14.62s/it]"
     ]
    },
    {
     "name": "stdout",
     "output_type": "stream",
     "text": [
      "Episode: 31, Total Reward: [278.99756]\n"
     ]
    },
    {
     "name": "stderr",
     "output_type": "stream",
     "text": [
      "\r",
      " 33%|██████████████████████████▋                                                      | 33/100 [08:58<16:32, 14.81s/it]"
     ]
    },
    {
     "name": "stdout",
     "output_type": "stream",
     "text": [
      "Episode: 32, Total Reward: [321.9975]\n"
     ]
    },
    {
     "name": "stderr",
     "output_type": "stream",
     "text": [
      "\r",
      " 34%|███████████████████████████▌                                                     | 34/100 [09:19<18:09, 16.51s/it]"
     ]
    },
    {
     "name": "stdout",
     "output_type": "stream",
     "text": [
      "Episode: 33, Total Reward: [174.20027]\n"
     ]
    },
    {
     "name": "stderr",
     "output_type": "stream",
     "text": [
      "\r",
      " 35%|████████████████████████████▎                                                    | 35/100 [09:38<18:49, 17.38s/it]"
     ]
    },
    {
     "name": "stdout",
     "output_type": "stream",
     "text": [
      "Episode: 34, Total Reward: [299.598]\n"
     ]
    },
    {
     "name": "stderr",
     "output_type": "stream",
     "text": [
      "\r",
      " 36%|█████████████████████████████▏                                                   | 36/100 [09:52<17:29, 16.40s/it]"
     ]
    },
    {
     "name": "stdout",
     "output_type": "stream",
     "text": [
      "Episode: 35, Total Reward: [309.09818]\n"
     ]
    },
    {
     "name": "stderr",
     "output_type": "stream",
     "text": [
      "\r",
      " 37%|█████████████████████████████▉                                                   | 37/100 [10:15<19:13, 18.32s/it]"
     ]
    },
    {
     "name": "stdout",
     "output_type": "stream",
     "text": [
      "Episode: 36, Total Reward: [347.0962]\n"
     ]
    },
    {
     "name": "stderr",
     "output_type": "stream",
     "text": [
      "\r",
      " 38%|██████████████████████████████▊                                                  | 38/100 [10:35<19:26, 18.82s/it]"
     ]
    },
    {
     "name": "stdout",
     "output_type": "stream",
     "text": [
      "Episode: 37, Total Reward: [-32.19963]\n"
     ]
    },
    {
     "name": "stderr",
     "output_type": "stream",
     "text": [
      "\r",
      " 39%|███████████████████████████████▌                                                 | 39/100 [10:54<19:16, 18.96s/it]"
     ]
    },
    {
     "name": "stdout",
     "output_type": "stream",
     "text": [
      "Episode: 38, Total Reward: [247.69916]\n"
     ]
    },
    {
     "name": "stderr",
     "output_type": "stream",
     "text": [
      "\r",
      " 40%|████████████████████████████████▍                                                | 40/100 [11:09<17:36, 17.61s/it]"
     ]
    },
    {
     "name": "stdout",
     "output_type": "stream",
     "text": [
      "Episode: 39, Total Reward: [363.69794]\n"
     ]
    },
    {
     "name": "stderr",
     "output_type": "stream",
     "text": [
      "\r",
      " 41%|█████████████████████████████████▏                                               | 41/100 [11:23<16:28, 16.76s/it]"
     ]
    },
    {
     "name": "stdout",
     "output_type": "stream",
     "text": [
      "Episode: 40, Total Reward: [146.09961]\n"
     ]
    },
    {
     "name": "stderr",
     "output_type": "stream",
     "text": [
      "\r",
      " 42%|██████████████████████████████████                                               | 42/100 [11:56<20:50, 21.57s/it]"
     ]
    },
    {
     "name": "stdout",
     "output_type": "stream",
     "text": [
      "Episode: 41, Total Reward: [409.39822]\n"
     ]
    },
    {
     "name": "stderr",
     "output_type": "stream",
     "text": [
      "\r",
      " 43%|██████████████████████████████████▊                                              | 43/100 [12:15<19:50, 20.88s/it]"
     ]
    },
    {
     "name": "stdout",
     "output_type": "stream",
     "text": [
      "Episode: 42, Total Reward: [120.70005]\n"
     ]
    },
    {
     "name": "stderr",
     "output_type": "stream",
     "text": [
      "\r",
      " 44%|███████████████████████████████████▋                                             | 44/100 [12:34<18:43, 20.06s/it]"
     ]
    },
    {
     "name": "stdout",
     "output_type": "stream",
     "text": [
      "Episode: 43, Total Reward: [110.09954]\n"
     ]
    },
    {
     "name": "stderr",
     "output_type": "stream",
     "text": [
      "\r",
      " 45%|████████████████████████████████████▍                                            | 45/100 [12:49<17:03, 18.61s/it]"
     ]
    },
    {
     "name": "stdout",
     "output_type": "stream",
     "text": [
      "Episode: 44, Total Reward: [205.9984]\n"
     ]
    },
    {
     "name": "stderr",
     "output_type": "stream",
     "text": [
      "\r",
      " 46%|█████████████████████████████████████▎                                           | 46/100 [13:07<16:40, 18.52s/it]"
     ]
    },
    {
     "name": "stdout",
     "output_type": "stream",
     "text": [
      "Episode: 45, Total Reward: [305.99753]\n"
     ]
    },
    {
     "name": "stderr",
     "output_type": "stream",
     "text": [
      "\r",
      " 47%|██████████████████████████████████████                                           | 47/100 [13:55<24:03, 27.24s/it]"
     ]
    },
    {
     "name": "stdout",
     "output_type": "stream",
     "text": [
      "Episode: 46, Total Reward: [158.19467]\n"
     ]
    },
    {
     "name": "stderr",
     "output_type": "stream",
     "text": [
      "\r",
      " 48%|██████████████████████████████████████▉                                          | 48/100 [14:08<20:01, 23.10s/it]"
     ]
    },
    {
     "name": "stdout",
     "output_type": "stream",
     "text": [
      "Episode: 47, Total Reward: [253.90015]\n"
     ]
    },
    {
     "name": "stderr",
     "output_type": "stream",
     "text": [
      "\r",
      " 49%|███████████████████████████████████████▋                                         | 49/100 [14:27<18:26, 21.69s/it]"
     ]
    },
    {
     "name": "stdout",
     "output_type": "stream",
     "text": [
      "Episode: 48, Total Reward: [201.79916]\n"
     ]
    },
    {
     "name": "stderr",
     "output_type": "stream",
     "text": [
      "\r",
      " 50%|████████████████████████████████████████▌                                        | 50/100 [14:38<15:31, 18.62s/it]"
     ]
    },
    {
     "name": "stdout",
     "output_type": "stream",
     "text": [
      "Episode: 49, Total Reward: [245.39816]\n"
     ]
    },
    {
     "name": "stderr",
     "output_type": "stream",
     "text": [
      "\r",
      " 51%|█████████████████████████████████████████▎                                       | 51/100 [14:52<14:04, 17.24s/it]"
     ]
    },
    {
     "name": "stdout",
     "output_type": "stream",
     "text": [
      "Episode: 50, Total Reward: [311.89816]\n"
     ]
    },
    {
     "name": "stderr",
     "output_type": "stream",
     "text": [
      "\r",
      " 52%|██████████████████████████████████████████                                       | 52/100 [15:06<13:01, 16.28s/it]"
     ]
    },
    {
     "name": "stdout",
     "output_type": "stream",
     "text": [
      "Episode: 51, Total Reward: [88.799164]\n"
     ]
    },
    {
     "name": "stderr",
     "output_type": "stream",
     "text": [
      "\r",
      " 53%|██████████████████████████████████████████▉                                      | 53/100 [15:24<13:02, 16.65s/it]"
     ]
    },
    {
     "name": "stdout",
     "output_type": "stream",
     "text": [
      "Episode: 52, Total Reward: [329.99704]\n"
     ]
    },
    {
     "name": "stderr",
     "output_type": "stream",
     "text": [
      "\r",
      " 54%|███████████████████████████████████████████▋                                     | 54/100 [15:40<12:45, 16.65s/it]"
     ]
    },
    {
     "name": "stdout",
     "output_type": "stream",
     "text": [
      "Episode: 53, Total Reward: [353.39807]\n"
     ]
    },
    {
     "name": "stderr",
     "output_type": "stream",
     "text": [
      "\r",
      " 55%|████████████████████████████████████████████▌                                    | 55/100 [16:05<14:19, 19.11s/it]"
     ]
    },
    {
     "name": "stdout",
     "output_type": "stream",
     "text": [
      "Episode: 54, Total Reward: [200.99884]\n"
     ]
    },
    {
     "name": "stderr",
     "output_type": "stream",
     "text": [
      "\r",
      " 56%|█████████████████████████████████████████████▎                                   | 56/100 [16:30<15:13, 20.75s/it]"
     ]
    },
    {
     "name": "stdout",
     "output_type": "stream",
     "text": [
      "Episode: 55, Total Reward: [256.6946]\n"
     ]
    },
    {
     "name": "stderr",
     "output_type": "stream",
     "text": [
      "\r",
      " 57%|██████████████████████████████████████████████▏                                  | 57/100 [16:43<13:10, 18.39s/it]"
     ]
    },
    {
     "name": "stdout",
     "output_type": "stream",
     "text": [
      "Episode: 56, Total Reward: [82.49949]\n"
     ]
    },
    {
     "name": "stderr",
     "output_type": "stream",
     "text": [
      "\r",
      " 58%|██████████████████████████████████████████████▉                                  | 58/100 [16:59<12:24, 17.72s/it]"
     ]
    },
    {
     "name": "stdout",
     "output_type": "stream",
     "text": [
      "Episode: 57, Total Reward: [216.29709]\n"
     ]
    },
    {
     "name": "stderr",
     "output_type": "stream",
     "text": [
      "\r",
      " 59%|███████████████████████████████████████████████▊                                 | 59/100 [17:22<13:11, 19.29s/it]"
     ]
    },
    {
     "name": "stdout",
     "output_type": "stream",
     "text": [
      "Episode: 58, Total Reward: [330.99603]\n"
     ]
    },
    {
     "name": "stderr",
     "output_type": "stream",
     "text": [
      "\r",
      " 60%|████████████████████████████████████████████████▌                                | 60/100 [17:53<15:20, 23.01s/it]"
     ]
    },
    {
     "name": "stdout",
     "output_type": "stream",
     "text": [
      "Episode: 59, Total Reward: [28.200552]\n"
     ]
    },
    {
     "name": "stderr",
     "output_type": "stream",
     "text": [
      "\r",
      " 61%|█████████████████████████████████████████████████▍                               | 61/100 [18:08<13:16, 20.42s/it]"
     ]
    },
    {
     "name": "stdout",
     "output_type": "stream",
     "text": [
      "Episode: 60, Total Reward: [293.0982]\n"
     ]
    },
    {
     "name": "stderr",
     "output_type": "stream",
     "text": [
      "\r",
      " 62%|██████████████████████████████████████████████████▏                              | 62/100 [18:11<09:35, 15.16s/it]"
     ]
    },
    {
     "name": "stdout",
     "output_type": "stream",
     "text": [
      "Episode: 61, Total Reward: [-106.09999]\n"
     ]
    },
    {
     "name": "stderr",
     "output_type": "stream",
     "text": [
      "\r",
      " 63%|███████████████████████████████████████████████████                              | 63/100 [18:42<12:26, 20.17s/it]"
     ]
    },
    {
     "name": "stdout",
     "output_type": "stream",
     "text": [
      "Episode: 62, Total Reward: [171.99667]\n"
     ]
    },
    {
     "name": "stderr",
     "output_type": "stream",
     "text": [
      "\r",
      " 64%|███████████████████████████████████████████████████▊                             | 64/100 [19:52<20:57, 34.94s/it]"
     ]
    },
    {
     "name": "stdout",
     "output_type": "stream",
     "text": [
      "Episode: 63, Total Reward: [332.88235]\n"
     ]
    },
    {
     "name": "stderr",
     "output_type": "stream",
     "text": [
      "\r",
      " 65%|████████████████████████████████████████████████████▋                            | 65/100 [20:25<20:01, 34.34s/it]"
     ]
    },
    {
     "name": "stdout",
     "output_type": "stream",
     "text": [
      "Episode: 64, Total Reward: [367.7934]\n"
     ]
    },
    {
     "name": "stderr",
     "output_type": "stream",
     "text": [
      "\r",
      " 66%|█████████████████████████████████████████████████████▍                           | 66/100 [20:27<14:03, 24.82s/it]"
     ]
    },
    {
     "name": "stdout",
     "output_type": "stream",
     "text": [
      "Episode: 65, Total Reward: [-105.7]\n"
     ]
    },
    {
     "name": "stderr",
     "output_type": "stream",
     "text": [
      "\r",
      " 67%|██████████████████████████████████████████████████████▎                          | 67/100 [20:44<12:13, 22.22s/it]"
     ]
    },
    {
     "name": "stdout",
     "output_type": "stream",
     "text": [
      "Episode: 66, Total Reward: [301.39798]\n"
     ]
    },
    {
     "name": "stderr",
     "output_type": "stream",
     "text": [
      "\r",
      " 68%|███████████████████████████████████████████████████████                          | 68/100 [21:02<11:12, 21.01s/it]"
     ]
    },
    {
     "name": "stdout",
     "output_type": "stream",
     "text": [
      "Episode: 67, Total Reward: [235.39914]\n"
     ]
    },
    {
     "name": "stderr",
     "output_type": "stream",
     "text": [
      "\r",
      " 69%|███████████████████████████████████████████████████████▉                         | 69/100 [21:13<09:19, 18.06s/it]"
     ]
    },
    {
     "name": "stdout",
     "output_type": "stream",
     "text": [
      "Episode: 68, Total Reward: [250.99857]\n"
     ]
    },
    {
     "name": "stderr",
     "output_type": "stream",
     "text": [
      "\r",
      " 70%|████████████████████████████████████████████████████████▋                        | 70/100 [21:28<08:36, 17.23s/it]"
     ]
    },
    {
     "name": "stdout",
     "output_type": "stream",
     "text": [
      "Episode: 69, Total Reward: [367.79807]\n"
     ]
    },
    {
     "name": "stderr",
     "output_type": "stream",
     "text": [
      "\r",
      " 71%|█████████████████████████████████████████████████████████▌                       | 71/100 [21:41<07:37, 15.78s/it]"
     ]
    },
    {
     "name": "stdout",
     "output_type": "stream",
     "text": [
      "Episode: 70, Total Reward: [263.89822]\n"
     ]
    },
    {
     "name": "stderr",
     "output_type": "stream",
     "text": [
      "\r",
      " 72%|██████████████████████████████████████████████████████████▎                      | 72/100 [22:01<08:04, 17.29s/it]"
     ]
    },
    {
     "name": "stdout",
     "output_type": "stream",
     "text": [
      "Episode: 71, Total Reward: [192.80081]\n"
     ]
    },
    {
     "name": "stderr",
     "output_type": "stream",
     "text": [
      "\r",
      " 73%|███████████████████████████████████████████████████████████▏                     | 73/100 [22:18<07:40, 17.07s/it]"
     ]
    },
    {
     "name": "stdout",
     "output_type": "stream",
     "text": [
      "Episode: 72, Total Reward: [385.89746]\n"
     ]
    },
    {
     "name": "stderr",
     "output_type": "stream",
     "text": [
      "\r",
      " 74%|███████████████████████████████████████████████████████████▉                     | 74/100 [22:41<08:12, 18.95s/it]"
     ]
    },
    {
     "name": "stdout",
     "output_type": "stream",
     "text": [
      "Episode: 73, Total Reward: [245.99988]\n"
     ]
    },
    {
     "name": "stderr",
     "output_type": "stream",
     "text": [
      "\r",
      " 75%|████████████████████████████████████████████████████████████▊                    | 75/100 [22:55<07:12, 17.31s/it]"
     ]
    },
    {
     "name": "stdout",
     "output_type": "stream",
     "text": [
      "Episode: 74, Total Reward: [234.99838]\n"
     ]
    },
    {
     "name": "stderr",
     "output_type": "stream",
     "text": [
      "\r",
      " 76%|█████████████████████████████████████████████████████████████▌                   | 76/100 [23:11<06:50, 17.09s/it]"
     ]
    },
    {
     "name": "stdout",
     "output_type": "stream",
     "text": [
      "Episode: 75, Total Reward: [209.49829]\n"
     ]
    },
    {
     "name": "stderr",
     "output_type": "stream",
     "text": [
      "\r",
      " 77%|██████████████████████████████████████████████████████████████▎                  | 77/100 [23:27<06:24, 16.70s/it]"
     ]
    },
    {
     "name": "stdout",
     "output_type": "stream",
     "text": [
      "Episode: 76, Total Reward: [33.900524]\n"
     ]
    },
    {
     "name": "stderr",
     "output_type": "stream",
     "text": [
      "\r",
      " 78%|███████████████████████████████████████████████████████████████▏                 | 78/100 [23:42<05:58, 16.28s/it]"
     ]
    },
    {
     "name": "stdout",
     "output_type": "stream",
     "text": [
      "Episode: 77, Total Reward: [378.29755]\n"
     ]
    },
    {
     "name": "stderr",
     "output_type": "stream",
     "text": [
      "\r",
      " 79%|███████████████████████████████████████████████████████████████▉                 | 79/100 [23:57<05:28, 15.66s/it]"
     ]
    },
    {
     "name": "stdout",
     "output_type": "stream",
     "text": [
      "Episode: 78, Total Reward: [239.1991]\n"
     ]
    },
    {
     "name": "stderr",
     "output_type": "stream",
     "text": [
      "\r",
      " 80%|████████████████████████████████████████████████████████████████▊                | 80/100 [24:10<04:56, 14.84s/it]"
     ]
    },
    {
     "name": "stdout",
     "output_type": "stream",
     "text": [
      "Episode: 79, Total Reward: [220.29822]\n"
     ]
    },
    {
     "name": "stderr",
     "output_type": "stream",
     "text": [
      "\r",
      " 81%|█████████████████████████████████████████████████████████████████▌               | 81/100 [24:12<03:32, 11.18s/it]"
     ]
    },
    {
     "name": "stdout",
     "output_type": "stream",
     "text": [
      "Episode: 80, Total Reward: [-105.7]\n"
     ]
    },
    {
     "name": "stderr",
     "output_type": "stream",
     "text": [
      "\r",
      " 82%|██████████████████████████████████████████████████████████████████▍              | 82/100 [24:27<03:40, 12.26s/it]"
     ]
    },
    {
     "name": "stdout",
     "output_type": "stream",
     "text": [
      "Episode: 81, Total Reward: [148.2985]\n"
     ]
    },
    {
     "name": "stderr",
     "output_type": "stream",
     "text": [
      "\r",
      " 83%|███████████████████████████████████████████████████████████████████▏             | 83/100 [24:30<02:38,  9.33s/it]"
     ]
    },
    {
     "name": "stdout",
     "output_type": "stream",
     "text": [
      "Episode: 82, Total Reward: [-105.7]\n"
     ]
    },
    {
     "name": "stderr",
     "output_type": "stream",
     "text": [
      "\r",
      " 84%|████████████████████████████████████████████████████████████████████             | 84/100 [24:32<01:56,  7.30s/it]"
     ]
    },
    {
     "name": "stdout",
     "output_type": "stream",
     "text": [
      "Episode: 83, Total Reward: [-105.7]\n"
     ]
    },
    {
     "name": "stderr",
     "output_type": "stream",
     "text": [
      "\r",
      " 85%|████████████████████████████████████████████████████████████████████▊            | 85/100 [24:55<03:01, 12.12s/it]"
     ]
    },
    {
     "name": "stdout",
     "output_type": "stream",
     "text": [
      "Episode: 84, Total Reward: [190.19843]\n"
     ]
    },
    {
     "name": "stderr",
     "output_type": "stream",
     "text": [
      "\r",
      " 86%|█████████████████████████████████████████████████████████████████████▋           | 86/100 [25:12<03:08, 13.46s/it]"
     ]
    },
    {
     "name": "stdout",
     "output_type": "stream",
     "text": [
      "Episode: 85, Total Reward: [248.49854]\n"
     ]
    },
    {
     "name": "stderr",
     "output_type": "stream",
     "text": [
      "\r",
      " 87%|██████████████████████████████████████████████████████████████████████▍          | 87/100 [25:29<03:07, 14.43s/it]"
     ]
    },
    {
     "name": "stdout",
     "output_type": "stream",
     "text": [
      "Episode: 86, Total Reward: [101.69888]\n"
     ]
    },
    {
     "name": "stderr",
     "output_type": "stream",
     "text": [
      "\r",
      " 88%|███████████████████████████████████████████████████████████████████████▎         | 88/100 [25:45<03:00, 15.01s/it]"
     ]
    },
    {
     "name": "stdout",
     "output_type": "stream",
     "text": [
      "Episode: 87, Total Reward: [162.89977]\n"
     ]
    },
    {
     "name": "stderr",
     "output_type": "stream",
     "text": [
      "\r",
      " 89%|████████████████████████████████████████████████████████████████████████         | 89/100 [26:05<03:02, 16.62s/it]"
     ]
    },
    {
     "name": "stdout",
     "output_type": "stream",
     "text": [
      "Episode: 88, Total Reward: [180.39551]\n"
     ]
    },
    {
     "name": "stderr",
     "output_type": "stream",
     "text": [
      "\r",
      " 90%|████████████████████████████████████████████████████████████████████████▉        | 90/100 [26:25<02:53, 17.39s/it]"
     ]
    },
    {
     "name": "stdout",
     "output_type": "stream",
     "text": [
      "Episode: 89, Total Reward: [-54.899483]\n"
     ]
    },
    {
     "name": "stderr",
     "output_type": "stream",
     "text": [
      "\r",
      " 91%|█████████████████████████████████████████████████████████████████████████▋       | 91/100 [26:42<02:36, 17.36s/it]"
     ]
    },
    {
     "name": "stdout",
     "output_type": "stream",
     "text": [
      "Episode: 90, Total Reward: [201.1995]\n"
     ]
    },
    {
     "name": "stderr",
     "output_type": "stream",
     "text": [
      "\r",
      " 92%|██████████████████████████████████████████████████████████████████████████▌      | 92/100 [26:54<02:06, 15.75s/it]"
     ]
    },
    {
     "name": "stdout",
     "output_type": "stream",
     "text": [
      "Episode: 91, Total Reward: [257.49786]\n"
     ]
    },
    {
     "name": "stderr",
     "output_type": "stream",
     "text": [
      "\r",
      " 93%|███████████████████████████████████████████████████████████████████████████▎     | 93/100 [27:09<01:49, 15.57s/it]"
     ]
    },
    {
     "name": "stdout",
     "output_type": "stream",
     "text": [
      "Episode: 92, Total Reward: [221.49884]\n"
     ]
    },
    {
     "name": "stderr",
     "output_type": "stream",
     "text": [
      "\r",
      " 94%|████████████████████████████████████████████████████████████████████████████▏    | 94/100 [27:26<01:35, 15.98s/it]"
     ]
    },
    {
     "name": "stdout",
     "output_type": "stream",
     "text": [
      "Episode: 93, Total Reward: [83.29966]\n"
     ]
    },
    {
     "name": "stderr",
     "output_type": "stream",
     "text": [
      "\r",
      " 95%|████████████████████████████████████████████████████████████████████████████▉    | 95/100 [27:42<01:19, 15.89s/it]"
     ]
    },
    {
     "name": "stdout",
     "output_type": "stream",
     "text": [
      "Episode: 94, Total Reward: [67.80074]\n"
     ]
    },
    {
     "name": "stderr",
     "output_type": "stream",
     "text": [
      "\r",
      " 96%|█████████████████████████████████████████████████████████████████████████████▊   | 96/100 [27:58<01:03, 15.97s/it]"
     ]
    },
    {
     "name": "stdout",
     "output_type": "stream",
     "text": [
      "Episode: 95, Total Reward: [224.59705]\n"
     ]
    },
    {
     "name": "stderr",
     "output_type": "stream",
     "text": [
      "\r",
      " 97%|██████████████████████████████████████████████████████████████████████████████▌  | 97/100 [28:21<00:54, 18.21s/it]"
     ]
    },
    {
     "name": "stdout",
     "output_type": "stream",
     "text": [
      "Episode: 96, Total Reward: [105.800125]\n"
     ]
    },
    {
     "name": "stderr",
     "output_type": "stream",
     "text": [
      "\r",
      " 98%|███████████████████████████████████████████████████████████████████████████████▍ | 98/100 [28:41<00:37, 18.57s/it]"
     ]
    },
    {
     "name": "stdout",
     "output_type": "stream",
     "text": [
      "Episode: 97, Total Reward: [226.19849]\n"
     ]
    },
    {
     "name": "stderr",
     "output_type": "stream",
     "text": [
      "\r",
      " 99%|████████████████████████████████████████████████████████████████████████████████▏| 99/100 [28:58<00:18, 18.25s/it]"
     ]
    },
    {
     "name": "stdout",
     "output_type": "stream",
     "text": [
      "Episode: 98, Total Reward: [312.8993]\n"
     ]
    },
    {
     "name": "stderr",
     "output_type": "stream",
     "text": [
      "100%|████████████████████████████████████████████████████████████████████████████████| 100/100 [29:13<00:00, 17.53s/it]"
     ]
    },
    {
     "name": "stdout",
     "output_type": "stream",
     "text": [
      "Episode: 99, Total Reward: [260.49854]\n",
      "Average Reward:  198.06438\n"
     ]
    },
    {
     "name": "stderr",
     "output_type": "stream",
     "text": [
      "\n"
     ]
    }
   ],
   "source": [
    "model = PPO2.load('Model Weights/PPO/Complex Environment Agent/PPO_MODEL_OBS-v56/PPO_MODEL_Obstacles1',env=env)\n",
    "\n",
    "model.set_env(env)\n",
    "\n",
    "test_set=[]\n",
    "for episode in tqdm(range(100)):\n",
    "    obs = env.reset()\n",
    "    total_reward = 0\n",
    "    done=False\n",
    "    while not done:\n",
    "        action, states = model.predict(obs)\n",
    "        obs, reward, done, info = env.step(action)\n",
    "        total_reward += reward\n",
    "        env.render()\n",
    "    print(f'Episode: {episode}, Total Reward: {total_reward}')\n",
    "    test_set.append(total_reward)\n",
    "env.close()\n",
    "\n",
    "print('Average Reward: ',np.mean(test_set))"
   ]
  },
  {
   "cell_type": "code",
   "execution_count": 8,
   "id": "0d8cd966",
   "metadata": {},
   "outputs": [
    {
     "data": {
      "text/html": [
       "<div>\n",
       "<style scoped>\n",
       "    .dataframe tbody tr th:only-of-type {\n",
       "        vertical-align: middle;\n",
       "    }\n",
       "\n",
       "    .dataframe tbody tr th {\n",
       "        vertical-align: top;\n",
       "    }\n",
       "\n",
       "    .dataframe thead th {\n",
       "        text-align: right;\n",
       "    }\n",
       "</style>\n",
       "<table border=\"1\" class=\"dataframe\">\n",
       "  <thead>\n",
       "    <tr style=\"text-align: right;\">\n",
       "      <th></th>\n",
       "      <th>0</th>\n",
       "    </tr>\n",
       "  </thead>\n",
       "  <tbody>\n",
       "    <tr>\n",
       "      <th>count</th>\n",
       "      <td>100.000000</td>\n",
       "    </tr>\n",
       "    <tr>\n",
       "      <th>mean</th>\n",
       "      <td>198.064377</td>\n",
       "    </tr>\n",
       "    <tr>\n",
       "      <th>std</th>\n",
       "      <td>137.629547</td>\n",
       "    </tr>\n",
       "    <tr>\n",
       "      <th>min</th>\n",
       "      <td>-117.000015</td>\n",
       "    </tr>\n",
       "    <tr>\n",
       "      <th>25%</th>\n",
       "      <td>119.674997</td>\n",
       "    </tr>\n",
       "    <tr>\n",
       "      <th>50%</th>\n",
       "      <td>223.047943</td>\n",
       "    </tr>\n",
       "    <tr>\n",
       "      <th>75%</th>\n",
       "      <td>293.948242</td>\n",
       "    </tr>\n",
       "    <tr>\n",
       "      <th>max</th>\n",
       "      <td>476.595093</td>\n",
       "    </tr>\n",
       "  </tbody>\n",
       "</table>\n",
       "</div>"
      ],
      "text/plain": [
       "                0\n",
       "count  100.000000\n",
       "mean   198.064377\n",
       "std    137.629547\n",
       "min   -117.000015\n",
       "25%    119.674997\n",
       "50%    223.047943\n",
       "75%    293.948242\n",
       "max    476.595093"
      ]
     },
     "execution_count": 8,
     "metadata": {},
     "output_type": "execute_result"
    }
   ],
   "source": [
    "## Get summary statistic\n",
    "pd.DataFrame(test_set).describe()"
   ]
  },
  {
   "cell_type": "markdown",
   "id": "a17c7fb6",
   "metadata": {},
   "source": [
    "## Record Videos"
   ]
  },
  {
   "cell_type": "code",
   "execution_count": 3,
   "id": "b4e057a6",
   "metadata": {},
   "outputs": [],
   "source": [
    "'''\n",
    "Complexity is set through 3 parameters: \n",
    "num_tracks: 1 for basic track, 2 for more complex tracks with intersection (X, t type)\n",
    "num_lanes: number of lanes for the track 1 for normal, 2 for multiple lanes\n",
    "num_lanes_changes: number of time two lanes will be merged into 1 over the track\n",
    "\n",
    "\n",
    "Obstacles/Bonus are controled by 2 parameters\n",
    "num_obstacles: number of obstacles by sub section of the track (if different than 0 then there are obstacles)\n",
    "If the car touched an obstacle, 50 points are deducted from the score\n",
    "prop_good_obstacles: probability (set between 0-1) for an obstacles to be a bonus (yellow color instead of red + reward 50 points if touched)\n",
    "'''\n",
    "\n",
    "\n",
    "env = lambda : CarRacing(\n",
    "        grayscale=1,\n",
    "        show_info_panel=0,\n",
    "        discretize_actions=\"hard\",\n",
    "        frames_per_state=4,\n",
    "        num_lanes=1,\n",
    "        num_lanes_changes=1,\n",
    "        num_tracks=1,\n",
    "        allow_reverse=False,\n",
    "        max_time_out=2,\n",
    "        verbose=0,\n",
    "        num_obstacles=0,\n",
    "        prop_good_obstacles=0.1)\n",
    "env = DummyVecEnv([env])\n",
    "\n"
   ]
  },
  {
   "cell_type": "code",
   "execution_count": 4,
   "id": "ddb4adf2",
   "metadata": {},
   "outputs": [
    {
     "name": "stdout",
     "output_type": "stream",
     "text": [
      "Episode: 0, Total Reward: [135.80063]\n",
      "Episode: 1, Total Reward: [128.30043]\n",
      "Episode: 2, Total Reward: [150.4997]\n",
      "Episode: 3, Total Reward: [140.50046]\n",
      "Episode: 4, Total Reward: [-21.799583]\n",
      "Episode: 5, Total Reward: [142.3002]\n",
      "Episode: 6, Total Reward: [149.90007]\n",
      "Episode: 7, Total Reward: [126.70076]\n",
      "Episode: 8, Total Reward: [146.3001]\n",
      "Episode: 9, Total Reward: [146.09993]\n"
     ]
    }
   ],
   "source": [
    "# model = PPO2.load('artifacts/PPO_MODEL_OBS-v56/PPO_MODEL_Obstacles1',env=env) #Tuned agent trained on complex track and obstacles/bonus\n",
    "model = PPO2.load('artifacts/PPO_MODEL_1-v98/PPO_MODEL_1',env=env) # Baseline agent trained on the base environment\n",
    "\n",
    "# Record the video starting at the first step\n",
    "env = VecVideoRecorder(env, 'video/',\n",
    "                       record_video_trigger=lambda x: x == 0, video_length=1500,\n",
    "                       name_prefix=\"ppo_agent-based\")\n",
    "\n",
    "for episode in range(10):\n",
    "    obs = env.reset()\n",
    "    total_reward = 0\n",
    "    done=False\n",
    "    while not done:\n",
    "        action, states = model.predict(obs)\n",
    "        obs, reward, done, info = env.step(action)\n",
    "        total_reward += reward\n",
    "        env.render()\n",
    "    print(f'Episode: {episode}, Total Reward: {total_reward}')\n",
    "env.close()\n"
   ]
  }
 ],
 "metadata": {
  "kernelspec": {
   "display_name": "project_rl",
   "language": "python",
   "name": "project_rl"
  },
  "language_info": {
   "codemirror_mode": {
    "name": "ipython",
    "version": 3
   },
   "file_extension": ".py",
   "mimetype": "text/x-python",
   "name": "python",
   "nbconvert_exporter": "python",
   "pygments_lexer": "ipython3",
   "version": "3.7.16"
  }
 },
 "nbformat": 4,
 "nbformat_minor": 5
}
